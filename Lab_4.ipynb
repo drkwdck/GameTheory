{
 "cells": [
  {
   "cell_type": "markdown",
   "metadata": {},
   "source": []
  },
  {
   "cell_type": "markdown",
   "metadata": {},
   "source": [
    "### Лабораторная 4: Аукцион и моделирование аукциона. Аукцион первой цены, аукцион второй цены"
   ]
  },
  {
   "cell_type": "markdown",
   "metadata": {},
   "source": [
    "#### Теоретическая справка\n",
    "Виды аукционов: \n",
    "* **Открытый аукцион** (все игроки слышат, что предложил другой игрок) - торговля на рынке ценных бумаг\n",
    "* **Закрытый аукцион** (все игроки пишут предложения на бумажке) - например тендеры и госзакупки, сбор КП у коммерческих предприятий\n",
    "\n",
    "Голландский аукцион (открытый аукцион со снижением цены)\n",
    "Английский аукцион (классический с повышением цены)\n"
   ]
  },
  {
   "cell_type": "markdown",
   "metadata": {},
   "source": [
    "#### Проблемы аукциона\n",
    "* Проблема участвовать или нет (например, покупать ли ценные бумаги)\n",
    "* Проблема определить правильную цену (например, почем продать прототип твердотельного лидара Самсунгу)\n",
    "* Проблема борьбы с конкурентами (как убедиться что никто не повлияет на аукцион в злом умысле)"
   ]
  },
  {
   "cell_type": "markdown",
   "metadata": {},
   "source": [
    "### Примеры"
   ]
  },
  {
   "cell_type": "markdown",
   "metadata": {},
   "source": [
    "**Проблема борьбы с конкурентами**\n",
    "\n",
    "Правила аукциона, Эксперимент Базермана\n",
    "\n",
    "У эксперимента простые правила:\n",
    "* Профессор проводит аукцион, на котором продаёт банкноту в 20 долларов.\n",
    "\n",
    "* Начальная стоимость банкноты — 1 доллар.\n",
    "\n",
    "* Участники по классическим правилам любого аукциона называют свои ставки. Шаг ставок — 1 доллар. Ставки можно поднимать сколь угодно долго. Банкнота достанется тому, кто сделал самую большую, никем не перебитую ставку. Победитель выплачивает профессору сумму своей ставки.\n",
    "\n",
    "* Важное условие: участник, который оказался вторым, — последним предлагал свою ставку перед итоговым победителем, — должен выплатить профессору сумму своей итоговой ставки.\n",
    "\n"
   ]
  },
  {
   "cell_type": "markdown",
   "metadata": {},
   "source": [
    "![title](./img.assets/7534cd77b61f5890d9537999902eb537.png)"
   ]
  },
  {
   "cell_type": "markdown",
   "metadata": {},
   "source": [
    "**Проблема участия**\n",
    "Если существует тендер, то с одной стороны стоит участвовать чтобы \"попытать удачу\", с другой стороны если за вход есть плата, то мат.ожидание выигрыша может быть меньше нуля"
   ]
  },
  {
   "cell_type": "markdown",
   "metadata": {},
   "source": [
    "**Проблема определения правильной цены**\n",
    "\n",
    "Каждый игрок делает предположение о цене неизвестного ему товара. В глубине души игрок уже определил для себя его цену.\n",
    "Можно сказать что цена игрока = цена предмета + ошибка.\n",
    "Можно так же сказать, что по ЦПТ эта ошибка распредела нормально.\n",
    "Тогда можно ожидать, что аукцион выиграет тот, у кого ошибка ушла максимально вправо. Грубо говоря в любом аукционе тот кто выиграл - проиграл в цене и переплатил. Чтобы этого избежать был придуман аукцион второй цены - аукцион Викри."
   ]
  },
  {
   "cell_type": "code",
   "execution_count": 1,
   "metadata": {},
   "outputs": [
    {
     "name": "stdout",
     "output_type": "stream",
     "text": [
      "Ending round 1\n",
      " Bet:  0 Participants:  3\n",
      "Ending round 2\n",
      " Bet:  100 Participants:  3\n",
      "Ending round 3\n",
      " Bet:  200 Participants:  3\n",
      "Ending round 4\n",
      " Bet:  300 Participants:  3\n",
      "Ending round 5\n",
      " Bet:  400 Participants:  3\n",
      "Ending round 6\n",
      " Bet:  500 Participants:  3\n",
      "Ending round 7\n",
      " Bet:  600 Participants:  3\n",
      "Ending round 8\n",
      " Bet:  700 Participants:  2\n",
      "Ending round 9\n",
      " Bet:  800 Participants:  2\n",
      "Ending round 10\n",
      " Bet:  900 Participants:  2\n",
      "Ending round 11\n",
      " Bet:  1000 Participants:  1\n",
      "We have a winner! Congratulations, Aggressive Oleg\n",
      "You bought an Item that costs  1200\n",
      "for  1000\n"
     ]
    }
   ],
   "source": [
    "import numpy as np\n",
    "\n",
    "\n",
    "class Auction:\n",
    "    def __init__(self,cost = 1000,start = 0, step = 10):\n",
    "        self.cost = cost\n",
    "        self.start = start\n",
    "        self.step = step\n",
    "        self.round = 1\n",
    "        self.current_price = self.start\n",
    "        self.bets = []\n",
    "        self.is_ended = False\n",
    "\n",
    "    def bet(self,name):\n",
    "        self.bets.append(name)\n",
    "\n",
    "    def end_round(self):\n",
    "        print(\"Ending round\",self.round)\n",
    "        print(\" Bet: \", self.current_price, \"Participants: \", len(self.bets))\n",
    "        if len(self.bets) == 1:\n",
    "            print(\"We have a winner! Congratulations,\",self.bets[0])\n",
    "            print(\"You bought an Item that costs \", self.cost)\n",
    "            print(\"for \", self.current_price)\n",
    "            self.is_ended = True\n",
    "        if len(self.bets) < 1:\n",
    "            print('noone is participating **sadface**')\n",
    "            self.is_ended = True\n",
    "        self.current_price += self.step\n",
    "        self.round += 1\n",
    "        self.bets = []\n",
    "    \n",
    "    def get_participants_count(self):\n",
    "        return len(self.bets)\n",
    "\n",
    "\n",
    "\n",
    "class Agent:\n",
    "    def __init__(self,\n",
    "            name,\n",
    "            type = 'rational',\n",
    "            value = 100,\n",
    "            uncertanty_percent = 30,\n",
    "            learning_speed = 5):\n",
    "        self.name = name\n",
    "        self.type = type\n",
    "        self.value = value\n",
    "        self.initial_value = value\n",
    "        self.uncertanty_percent = uncertanty_percent\n",
    "        self.learning_speed = learning_speed\n",
    "        \n",
    "\n",
    "    def make_assumption(self):\n",
    "        if self.type == 'rational':\n",
    "            standart_deviation = self.value * self.uncertanty_percent / 100\n",
    "            self.value = self.initial_value + np.random.normal(\n",
    "                0,\n",
    "                standart_deviation)\n",
    "            if self.uncertanty_percent > self.learning_speed:\n",
    "                self.uncertanty_percent -= self.learning_speed\n",
    "            \n",
    "\n",
    "    def make_bet(self,auction:Auction):\n",
    "        if self.value > auction.current_price or (self.type == 'aggressive' and auction.get_participants_count() == 1):\n",
    "            auction.bet(self.name)\n",
    "\n",
    "\n",
    "\n",
    "english_auction = Auction(1200,0,100)\n",
    "max = Agent('Max','rational',1000)\n",
    "steeve = Agent('Steeve','rational',600)\n",
    "agressive_oleg = Agent('Aggressive Oleg', 'aggressive', 1200)\n",
    "\n",
    "while english_auction.is_ended == False:\n",
    "    max.make_assumption()\n",
    "    max.make_bet(english_auction)\n",
    "    steeve.make_assumption()\n",
    "    steeve.make_bet(english_auction)\n",
    "    agressive_oleg.make_assumption()\n",
    "    agressive_oleg.make_bet(english_auction)\n",
    "    english_auction.end_round()\n"
   ]
  },
  {
   "cell_type": "markdown",
   "metadata": {},
   "source": [
    "**Задание 1**: На базе приведенного выше примера добавить третьего участника, который имеет отличающийся тип игрока. Например\n",
    "* Осторожный - Совершает ставку только если внутренняя его цена ниже чем текущая цена и в аукционе в предыдущем раунде было как минимум два игрока кроме него\n",
    "* Агрессивный - Всегда совершает ставку если остался в аукционе 1х1\n",
    "* Иррациональный - перед началом аукциона решает случайным образом, нужна ему эта вещь или нет. Участвует до тех пор пока у него хватает денег (надо ввести новую переменную)\n",
    "* Кооперативный - Выбирает еще одного игрока в свою кооперацию и \n",
    "* Шпион - в качестве своей оценки стоимости товара выбирает среднюю между всеми оценками и настоящей ценой товара\n",
    "* Спекулянт - Всегда играет до тех пор пока текущая ставка меньше реальной цены продукта"
   ]
  },
  {
   "cell_type": "markdown",
   "metadata": {},
   "source": [
    "**Задание 2**: На базе приведенного выше кода реализовать голландский аукцион с теми же игроками. "
   ]
  },
  {
   "cell_type": "markdown",
   "metadata": {},
   "source": [
    "**Задание 3**: Реализовать аукцион Викри. Повторить его 100 раз и повторить английский аукцион 100 раз. Для каждого случая вычислить и нарисовать гистограмму распределения переплаты или недоплаты победителя"
   ]
  },
  {
   "cell_type": "markdown",
   "metadata": {},
   "source": [
    "### Задание 1"
   ]
  },
  {
   "cell_type": "markdown",
   "metadata": {},
   "source": [
    "На базе приведенного выше примера добавить третьего участника, который имеет отличающийся тип игрока. Например\n",
    "\n",
    "* Осторожный - Совершает ставку только если внутренняя его цена ниже чем текущая цена и в аукционе в предыдущем раунде было как минимум два игрока кроме него\n",
    "* Агрессивный - Всегда совершает ставку если остался в аукционе 1х1\n",
    "* Иррациональный - перед началом аукциона решает случайным образом, нужна ему эта вещь или нет. Участвует до тех пор пока у него хватает денег (надо ввести новую переменную)\n",
    "* Кооперативный - Выбирает еще одного игрока в свою кооперацию и \n",
    "* Шпион - в качестве своей оценки стоимости товара выбирает среднюю между всеми оценками и настоящей ценой товара\n",
    "* Спекулянт - Всегда играет до тех пор пока текущая ставка меньше реальной цены продукта"
   ]
  },
  {
   "cell_type": "markdown",
   "metadata": {},
   "source": [
    "Добавим агрессивного игрока"
   ]
  },
  {
   "cell_type": "code",
   "execution_count": 2,
   "metadata": {},
   "outputs": [
    {
     "name": "stdout",
     "output_type": "stream",
     "text": [
      "Ending round 1\n",
      " Bet:  0 Participants:  3\n",
      "Ending round 2\n",
      " Bet:  100 Participants:  3\n",
      "Ending round 3\n",
      " Bet:  200 Participants:  3\n",
      "Ending round 4\n",
      " Bet:  300 Participants:  3\n",
      "Ending round 5\n",
      " Bet:  400 Participants:  3\n",
      "Ending round 6\n",
      " Bet:  500 Participants:  3\n",
      "Ending round 7\n",
      " Bet:  600 Participants:  3\n",
      "Ending round 8\n",
      " Bet:  700 Participants:  2\n",
      "Ending round 9\n",
      " Bet:  800 Participants:  2\n",
      "Ending round 10\n",
      " Bet:  900 Participants:  2\n",
      "Ending round 11\n",
      " Bet:  1000 Participants:  2\n",
      "Ending round 12\n",
      " Bet:  1100 Participants:  1\n",
      "We have a winner! Congratulations, Aggressive Oleg\n",
      "You bought an Item that costs  1200\n",
      "for  1100\n"
     ]
    }
   ],
   "source": [
    "import numpy as np\n",
    "\n",
    "\n",
    "class Auction:\n",
    "    def __init__(self,cost = 1000,start = 0, step = 10):\n",
    "        self.cost = cost\n",
    "        self.start = start\n",
    "        self.step = step\n",
    "        self.round = 1\n",
    "        self.current_price = self.start\n",
    "        self.bets = []\n",
    "        self.is_ended = False\n",
    "\n",
    "    def bet(self,name):\n",
    "        self.bets.append(name)\n",
    "\n",
    "    def end_round(self):\n",
    "        print(\"Ending round\",self.round)\n",
    "        print(\" Bet: \", self.current_price, \"Participants: \", len(self.bets))\n",
    "        if len(self.bets) == 1:\n",
    "            print(\"We have a winner! Congratulations,\",self.bets[0])\n",
    "            print(\"You bought an Item that costs \", self.cost)\n",
    "            print(\"for \", self.current_price)\n",
    "            self.is_ended = True\n",
    "        if len(self.bets) < 1:\n",
    "            print('noone is participating **sadface**')\n",
    "            self.is_ended = True\n",
    "        self.current_price += self.step\n",
    "        self.round += 1\n",
    "        self.bets = []\n",
    "    \n",
    "    def get_participants_count(self):\n",
    "        return len(self.bets)\n",
    "\n",
    "\n",
    "\n",
    "class Agent:\n",
    "    def __init__(self,\n",
    "            name,\n",
    "            type = 'rational',\n",
    "            value = 100,\n",
    "            uncertanty_percent = 30,\n",
    "            learning_speed = 5):\n",
    "        self.name = name\n",
    "        self.type = type\n",
    "        self.value = value\n",
    "        self.initial_value = value\n",
    "        self.uncertanty_percent = uncertanty_percent\n",
    "        self.learning_speed = learning_speed\n",
    "        \n",
    "\n",
    "    def make_assumption(self):\n",
    "        if self.type == 'rational':\n",
    "            standart_deviation = self.value * self.uncertanty_percent / 100\n",
    "            self.value = self.initial_value + np.random.normal(\n",
    "                0,\n",
    "                standart_deviation)\n",
    "            if self.uncertanty_percent > self.learning_speed:\n",
    "                self.uncertanty_percent -= self.learning_speed\n",
    "            \n",
    "\n",
    "    def make_bet(self,auction:Auction):\n",
    "        if self.value > auction.current_price or (self.type == 'aggressive' and auction.get_participants_count() == 1):\n",
    "            auction.bet(self.name)\n",
    "\n",
    "\n",
    "\n",
    "english_auction = Auction(1200,0,100)\n",
    "max = Agent('Max','rational',1000)\n",
    "steeve = Agent('Steeve','rational',600)\n",
    "agressive_oleg = Agent('Aggressive Oleg', 'aggressive', 1200)\n",
    "\n",
    "while english_auction.is_ended == False:\n",
    "    max.make_assumption()\n",
    "    max.make_bet(english_auction)\n",
    "    steeve.make_assumption()\n",
    "    steeve.make_bet(english_auction)\n",
    "    agressive_oleg.make_assumption()\n",
    "    agressive_oleg.make_bet(english_auction)\n",
    "    english_auction.end_round()\n"
   ]
  },
  {
   "cell_type": "markdown",
   "metadata": {},
   "source": [
    "### Задание 2"
   ]
  },
  {
   "cell_type": "markdown",
   "metadata": {},
   "source": [
    "На базе приведенного выше кода реализовать голландский аукцион с теми же игроками. "
   ]
  },
  {
   "cell_type": "code",
   "execution_count": 3,
   "metadata": {},
   "outputs": [
    {
     "name": "stdout",
     "output_type": "stream",
     "text": [
      "Ending round 1\n",
      " Bet:  2000 Participants:  0\n",
      "Ending round 2\n",
      " Bet:  1900 Participants:  0\n",
      "Ending round 3\n",
      " Bet:  1800 Participants:  0\n",
      "Ending round 4\n",
      " Bet:  1700 Participants:  0\n",
      "Ending round 5\n",
      " Bet:  1600 Participants:  0\n",
      "Ending round 6\n",
      " Bet:  1500 Participants:  0\n",
      "Ending round 7\n",
      " Bet:  1400 Participants:  0\n",
      "Ending round 8\n",
      " Bet:  1300 Participants:  0\n",
      "Ending round 9\n",
      " Bet:  1200 Participants:  0\n",
      "Ending round 10\n",
      " Bet:  1100 Participants:  1\n",
      "We have a winner! Congratulations, Aggressive Oleg\n",
      "You bought an Item that costs  1500\n",
      "for  1100\n"
     ]
    }
   ],
   "source": [
    "import numpy as np\n",
    "\n",
    "\n",
    "class Auction:\n",
    "    def __init__(self,cost = 1000,start = 0, step = -10):\n",
    "        self.cost = cost\n",
    "        self.start = start\n",
    "        self.step = step\n",
    "        self.round = 1\n",
    "        self.current_price = self.start\n",
    "        self.bets = []\n",
    "        self.is_ended = False\n",
    "\n",
    "    def bet(self,name):\n",
    "        self.bets.append(name)\n",
    "\n",
    "    def end_round(self):\n",
    "        print(\"Ending round\",self.round)\n",
    "        print(\" Bet: \", self.current_price, \"Participants: \", len(self.bets))\n",
    "        if len(self.bets) == 1:\n",
    "            print(\"We have a winner! Congratulations,\",self.bets[0])\n",
    "            print(\"You bought an Item that costs \", self.cost)\n",
    "            print(\"for \", self.current_price)\n",
    "            self.is_ended = True\n",
    "        if len(self.bets) > 1:\n",
    "            print('noone is winner **sadface**')\n",
    "            self.is_ended = True\n",
    "        self.current_price += self.step\n",
    "        self.round += 1\n",
    "        self.bets = []\n",
    "    \n",
    "    def get_participants_count(self):\n",
    "        return len(self.bets)\n",
    "\n",
    "\n",
    "\n",
    "class Agent:\n",
    "    def __init__(self,\n",
    "            name,\n",
    "            type = 'rational',\n",
    "            value = 100,\n",
    "            uncertanty_percent = 30,\n",
    "            learning_speed = 5):\n",
    "        self.name = name\n",
    "        self.type = type\n",
    "        self.value = value\n",
    "        self.initial_value = value\n",
    "        self.uncertanty_percent = uncertanty_percent\n",
    "        self.learning_speed = learning_speed\n",
    "        \n",
    "\n",
    "    def make_assumption(self):\n",
    "        if self.type == 'rational':\n",
    "            standart_deviation = self.value * self.uncertanty_percent / 100\n",
    "            self.value = self.initial_value + np.random.normal(\n",
    "                0,\n",
    "                standart_deviation)\n",
    "            if self.uncertanty_percent > self.learning_speed:\n",
    "                self.uncertanty_percent -= self.learning_speed\n",
    "            \n",
    "\n",
    "    def make_bet(self,auction:Auction):\n",
    "        if self.value > auction.current_price or (self.type == 'aggressive' and auction.get_participants_count() == 1):\n",
    "            auction.bet(self.name)\n",
    "\n",
    "english_auction = Auction(1500,2000,-100)\n",
    "max = Agent('Max','rational',1000)\n",
    "steeve = Agent('Steeve','rational',600)\n",
    "agressive_oleg = Agent('Aggressive Oleg', 'aggressive', 1200)\n",
    "\n",
    "while english_auction.is_ended == False:\n",
    "    max.make_assumption()\n",
    "    max.make_bet(english_auction)\n",
    "    steeve.make_assumption()\n",
    "    steeve.make_bet(english_auction)\n",
    "    agressive_oleg.make_assumption()\n",
    "    agressive_oleg.make_bet(english_auction)\n",
    "    english_auction.end_round()\n"
   ]
  },
  {
   "cell_type": "markdown",
   "metadata": {},
   "source": [
    "### Задание 3"
   ]
  },
  {
   "cell_type": "markdown",
   "metadata": {},
   "source": [
    "Реализовать аукцион Викри. Повторить его 100 раз и повторить английский аукцион 100 раз. Для каждого случая вычислить и нарисовать гистограмму распределения переплаты или недоплаты победителя"
   ]
  },
  {
   "cell_type": "markdown",
   "metadata": {},
   "source": [
    "Добавим метод для получения сдвига реальной цены и цены, которую выплатит игрок. Если она больше нуля, то выражает недоплату, иначе - переплату.\n",
    "\n",
    "Проведем один пробный аукцион Викри, чтобы убедиться в правильности работы метода:"
   ]
  },
  {
   "cell_type": "code",
   "execution_count": 14,
   "metadata": {},
   "outputs": [],
   "source": [
    "class Auction:\n",
    "    def __init__(self,cost = 1000,start = 0, step = -10, type = 'english'):\n",
    "        self.cost = cost\n",
    "        self.start = start\n",
    "        self.step = step\n",
    "        self.round = 1\n",
    "        self.current_price = self.start\n",
    "        self.type = type\n",
    "        self.bets = []\n",
    "        self.is_ended = False\n",
    "        self.prevous_round_bet = 0\n",
    "\n",
    "    def bet(self,name):\n",
    "        self.bets.append(name)\n",
    "\n",
    "    def end_round(self):\n",
    "        print(\"Ending round\",self.round)\n",
    "        print(\" Bet: \", self.current_price, \"Participants: \", len(self.bets))\n",
    "        if len(self.bets) == 1:\n",
    "            print(\"We have a winner! Congratulations,\",self.bets[0])\n",
    "            print(\"You bought an Item that costs \", self.cost)\n",
    "            \n",
    "            if self.type == 'Vickrey' and self.prevous_round_bet != 0:\n",
    "                self.current_price = self.prevous_round_bet\n",
    "\n",
    "            print(\"for \", self.current_price)\n",
    "            self.is_ended = True\n",
    "            return\n",
    "        if len(self.bets) < 1:\n",
    "            print('noone is winner **sadface**')\n",
    "            self.is_ended = True\n",
    "        self.prevous_round_bet = self.current_price\n",
    "        self.current_price += self.step\n",
    "        self.round += 1\n",
    "        self.bets = []\n",
    "    \n",
    "    def get_participants_count(self):\n",
    "        return len(self.bets)\n",
    "    \n",
    "    def get_price_shift(self):\n",
    "        return self.cost - self.current_price"
   ]
  },
  {
   "cell_type": "code",
   "execution_count": 16,
   "metadata": {},
   "outputs": [
    {
     "name": "stdout",
     "output_type": "stream",
     "text": [
      "Ending round 1\n",
      " Bet:  0 Participants:  3\n",
      "Ending round 2\n",
      " Bet:  100 Participants:  3\n",
      "Ending round 3\n",
      " Bet:  200 Participants:  3\n",
      "Ending round 4\n",
      " Bet:  300 Participants:  3\n",
      "Ending round 5\n",
      " Bet:  400 Participants:  3\n",
      "Ending round 6\n",
      " Bet:  500 Participants:  3\n",
      "Ending round 7\n",
      " Bet:  600 Participants:  2\n",
      "Ending round 8\n",
      " Bet:  700 Participants:  2\n",
      "Ending round 9\n",
      " Bet:  800 Participants:  2\n",
      "Ending round 10\n",
      " Bet:  900 Participants:  2\n",
      "Ending round 11\n",
      " Bet:  1000 Participants:  1\n",
      "We have a winner! Congratulations, Aggressive Oleg\n",
      "You bought an Item that costs  1500\n",
      "for  900\n",
      "Price shift: 600\n"
     ]
    }
   ],
   "source": [
    "vickrey_auction = Auction(1500,0,100, type='Vickrey')\n",
    "max = Agent('Max','rational',1000)\n",
    "steeve = Agent('Steeve','rational',600)\n",
    "agressive_oleg = Agent('Aggressive Oleg', 'aggressive', 1200)\n",
    "\n",
    "vickrey_price_shfits = []\n",
    "\n",
    "while vickrey_auction.is_ended == False:\n",
    "    max.make_assumption()\n",
    "    max.make_bet(vickrey_auction)\n",
    "    steeve.make_assumption()\n",
    "    steeve.make_bet(vickrey_auction)\n",
    "    agressive_oleg.make_assumption()\n",
    "    agressive_oleg.make_bet(vickrey_auction)\n",
    "    vickrey_auction.end_round()\n",
    "    \n",
    "print(\"Price shift: {0}\".format(vickrey_auction.get_price_shift()))"
   ]
  },
  {
   "cell_type": "markdown",
   "metadata": {},
   "source": [
    "Видно, что Олег купил лот, цена которого 1500 за 900. В результате его \"сдвиг цены\" оказался равен 600. Метод работает верно."
   ]
  },
  {
   "cell_type": "markdown",
   "metadata": {},
   "source": [
    "Закомментируем выводы, так как аукционы будем проводить несколько раз."
   ]
  },
  {
   "cell_type": "code",
   "execution_count": 17,
   "metadata": {},
   "outputs": [],
   "source": [
    "class Auction:\n",
    "    def __init__(self,cost = 1000,start = 0, step = -10, type = 'english'):\n",
    "        self.cost = cost\n",
    "        self.start = start\n",
    "        self.step = step\n",
    "        self.round = 1\n",
    "        self.current_price = self.start\n",
    "        self.type = type\n",
    "        self.bets = []\n",
    "        self.is_ended = False\n",
    "        self.prevous_round_bet = 0\n",
    "\n",
    "    def bet(self,name):\n",
    "        self.bets.append(name)\n",
    "\n",
    "    def end_round(self):\n",
    "        # print(\"Ending round\",self.round)\n",
    "        # print(\" Bet: \", self.current_price, \"Participants: \", len(self.bets))\n",
    "        if len(self.bets) == 1:\n",
    "            # print(\"We have a winner! Congratulations,\",self.bets[0])\n",
    "            # print(\"You bought an Item that costs \", self.cost)\n",
    "            \n",
    "            if self.type == 'Vickrey' and self.prevous_round_bet != 0:\n",
    "                self.current_price = self.prevous_round_bet\n",
    "\n",
    "            # print(\"for \", self.current_price)\n",
    "            self.is_ended = True\n",
    "            return\n",
    "        if len(self.bets) < 1:\n",
    "            # print('noone is winner **sadface**')\n",
    "            self.is_ended = True\n",
    "        self.prevous_round_bet = self.current_price\n",
    "        self.current_price += self.step\n",
    "        self.round += 1\n",
    "        self.bets = []\n",
    "    \n",
    "    def get_participants_count(self):\n",
    "        return len(self.bets)\n",
    "    \n",
    "    def get_price_shift(self):\n",
    "        return self.cost - self.current_price"
   ]
  },
  {
   "cell_type": "markdown",
   "metadata": {},
   "source": [
    "Проведем 100 раз каждый английский аукцион и аукцион Викри. В каждой итерации будем случайным образом отклонять параметры аукциона и участников."
   ]
  },
  {
   "cell_type": "code",
   "execution_count": 31,
   "metadata": {},
   "outputs": [],
   "source": [
    "import random as rnd\n",
    "\n",
    "# Аукцион Викри\n",
    "vickrey_price_shfits = []\n",
    "\n",
    "for i in range(100):\n",
    "    vickrey_auction = Auction(1300 + rnd.randint(0, 200), 0, 100, type='Vickrey')\n",
    "    max = Agent('Max','rational',800 + rnd.randint(0, 200))\n",
    "    steeve = Agent('Steeve','rational', 600 + rnd.randint(0, 200))\n",
    "    agressive_oleg = Agent('Aggressive Oleg', 'aggressive', 1000 + rnd.randint(0, 200))\n",
    "\n",
    "    while vickrey_auction.is_ended == False:\n",
    "        max.make_assumption()\n",
    "        max.make_bet(vickrey_auction)\n",
    "        steeve.make_assumption()\n",
    "        steeve.make_bet(vickrey_auction)\n",
    "        agressive_oleg.make_assumption()\n",
    "        agressive_oleg.make_bet(vickrey_auction)\n",
    "        vickrey_auction.end_round()\n",
    "\n",
    "    vickrey_price_shfits.append(vickrey_auction.get_price_shift())\n",
    "    \n",
    "vickrey_price_shfits = np.array(vickrey_price_shfits)\n",
    "\n",
    "# Английский аукцион\n",
    "english_price_shfits = []\n",
    "\n",
    "for i in range(100):\n",
    "    english_auction = Auction(600 + rnd.randint(0, 500), 0, 100, type='english')\n",
    "    max = Agent('Max','rational', 900 + rnd.randint(0, 200))\n",
    "    steeve = Agent('Steeve','rational', 400 + rnd.randint(0, 200))\n",
    "    agressive_oleg = Agent('Aggressive Oleg', 'aggressive', 950 + rnd.randint(0, 200))\n",
    "\n",
    "    while english_auction.is_ended == False:\n",
    "        max.make_assumption()\n",
    "        max.make_bet(english_auction)\n",
    "        steeve.make_assumption()\n",
    "        steeve.make_bet(english_auction)\n",
    "        agressive_oleg.make_assumption()\n",
    "        agressive_oleg.make_bet(english_auction)\n",
    "        english_auction.end_round()\n",
    "\n",
    "    english_price_shfits.append(english_auction.get_price_shift())\n",
    "\n",
    "english_price_shfits = np.array(english_price_shfits)"
   ]
  },
  {
   "cell_type": "markdown",
   "metadata": {},
   "source": [
    "Сформиурем результаты, выделив разделив массивы на два: массив переплат и недоплат."
   ]
  },
  {
   "cell_type": "code",
   "execution_count": 32,
   "metadata": {},
   "outputs": [],
   "source": [
    "# Переплаты в английском аукционе\n",
    "english_over_price = np.abs(english_price_shfits[english_price_shfits < 0])\n",
    "\n",
    "# Недоплаты в английском аукционе\n",
    "english_befor_price = english_price_shfits[english_price_shfits > 0]\n",
    "\n",
    "# Переплаты в аукционе Викри\n",
    "vickrey_over_price = np.abs(vickrey_price_shfits[vickrey_price_shfits < 0])\n",
    "\n",
    "# Недоплаты в аукционе Викри\n",
    "vickrey_befor_price = vickrey_price_shfits[vickrey_price_shfits > 0]"
   ]
  },
  {
   "cell_type": "markdown",
   "metadata": {},
   "source": [
    "Построим гистограммы переплат и недоплат."
   ]
  },
  {
   "cell_type": "code",
   "execution_count": 33,
   "metadata": {},
   "outputs": [],
   "source": [
    "from matplotlib import pyplot as plt"
   ]
  },
  {
   "cell_type": "code",
   "execution_count": 36,
   "metadata": {},
   "outputs": [
    {
     "data": {
      "image/png": "[encoded data removed]",
      "text/plain": [
       "<Figure size 432x288 with 1 Axes>"
      ]
     },
     "metadata": {
      "needs_background": "light"
     },
     "output_type": "display_data"
    }
   ],
   "source": [
    "plt.hist(english_over_price)\n",
    "plt.xlabel('Частота переплаты')\n",
    "plt.ylabel('Величина переплаты')\n",
    "plt.title(r'Переплата в английском аукционе')\n",
    "\n",
    "# Tweak spacing to prevent clipping of ylabel\n",
    "plt.subplots_adjust(left=0.15)\n",
    "plt.show()"
   ]
  },
  {
   "cell_type": "code",
   "execution_count": 38,
   "metadata": {},
   "outputs": [
    {
     "data": {
      "image/png": "[encoded data removed]",
      "text/plain": [
       "<Figure size 432x288 with 1 Axes>"
      ]
     },
     "metadata": {
      "needs_background": "light"
     },
     "output_type": "display_data"
    }
   ],
   "source": [
    "plt.hist(english_befor_price)\n",
    "plt.xlabel('Частота недоплаты')\n",
    "plt.ylabel('Величина недоплаты')\n",
    "plt.title('недоплаты в английском аукционе')\n",
    "\n",
    "# Tweak spacing to prevent clipping of ylabel\n",
    "plt.subplots_adjust(left=0.15)\n",
    "plt.show()"
   ]
  },
  {
   "cell_type": "code",
   "execution_count": null,
   "metadata": {},
   "outputs": [],
   "source": [
    "plt.hist(vickrey_over_price)\n",
    "plt.xlabel('Частота переплаты')\n",
    "plt.ylabel('Величина переплаты')\n",
    "plt.title('Переплата в аукционе Викри')\n",
    "\n",
    "# Tweak spacing to prevent clipping of ylabel\n",
    "plt.subplots_adjust(left=0.15)\n",
    "plt.show()"
   ]
  }
 ],
 "metadata": {
  "interpreter": {
   "hash": "b3ba2566441a7c06988d0923437866b63cedc61552a5af99d1f4fb67d367b25f"
  },
  "kernelspec": {
   "display_name": "Python 3 (ipykernel)",
   "language": "python",
   "name": "python3"
  },
  "language_info": {
   "codemirror_mode": {
    "name": "ipython",
    "version": 3
   },
   "file_extension": ".py",
   "mimetype": "text/x-python",
   "name": "python",
   "nbconvert_exporter": "python",
   "pygments_lexer": "ipython3",
   "version": "3.7.9"
  }
 },
 "nbformat": 4,
 "nbformat_minor": 2
}
