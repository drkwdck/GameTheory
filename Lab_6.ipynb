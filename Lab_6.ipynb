{
 "cells": [
  {
   "cell_type": "markdown",
   "id": "24b65a6f",
   "metadata": {},
   "source": [
    "# Курсовая работа по теории игр"
   ]
  },
  {
   "cell_type": "markdown",
   "id": "793a47c8",
   "metadata": {},
   "source": [
    "**Выполнил**: Решетников Егор Алексеевич (ПМ-41) (reshetnikov.e.a@mail.ru)\n",
    "\n",
    "**Преподаватель**: Гурьянов М.А., кафедра ВМ-1\n",
    "\n",
    "\n",
    "Весенний семестр, 2022 год\n",
    "\n",
    "МИЭТ, Зеленоград"
   ]
  },
  {
   "cell_type": "markdown",
   "id": "6e26c70f",
   "metadata": {},
   "source": [
    "## 2. Многошаговые и динамические игры"
   ]
  },
  {
   "cell_type": "markdown",
   "id": "97a18a5f",
   "metadata": {},
   "source": [
    "### Задание 1\n",
    "Придумать и реализовать класс - структуру данных, описывающую игру в виде графа."
   ]
  },
  {
   "cell_type": "code",
   "execution_count": 20,
   "id": "9589d915",
   "metadata": {},
   "outputs": [],
   "source": [
    "class node(object):\n",
    "    def __init__(self, value, player_name, children = []):\n",
    "        self.value = value\n",
    "        self.children = children\n",
    "        self.player_name = player_name\n",
    "        self.parent = None\n",
    "        for child in children:\n",
    "            child.parent = self\n",
    "\n",
    "    def __str__(self, level=0):\n",
    "        ret = \"|\" + \"\\n\" + \"---\" * level + repr(self.player_name) + \": \" + repr(self.value) + \"\\n\"\n",
    "        for child in self.children:\n",
    "            ret += child.__str__(level+1)\n",
    "        return ret\n",
    "\n",
    "    def __repr__(self):\n",
    "        return '<tree node representation>'\n",
    "    \n",
    "    def count_level(self):\n",
    "        level = 0\n",
    "        node = self\n",
    "        while True:\n",
    "            if node.parent is None:\n",
    "                return level\n",
    "            else:\n",
    "                level += 1\n",
    "                node = node.parent"
   ]
  },
  {
   "cell_type": "markdown",
   "id": "15a7d05b",
   "metadata": {},
   "source": [
    "### Задание 2\n",
    "Составить функцию, которая принимает на вход экземпляр класса древовидной игры и решает ее. Выводит решение графически. (детерминированное моделирование)."
   ]
  },
  {
   "cell_type": "code",
   "execution_count": 3,
   "id": "00a28205",
   "metadata": {},
   "outputs": [],
   "source": [
    "def walk_tree(root: node, nodes: list):\n",
    "    for child in root.children:\n",
    "        nodes.append(child)\n",
    "        walk_tree(child, nodes)\n",
    "\n",
    "def backward_induction_solve(root: node, all_nodes: list):\n",
    "    level = max([node.count_level() for node in all_nodes])\n",
    "    selected_nodes = []\n",
    "    \n",
    "    while level != 0:\n",
    "        selected_node = None\n",
    "\n",
    "        for node in all_nodes:\n",
    "            if node.count_level() != level:\n",
    "                continue\n",
    "            elif selected_node is None or selected_node.value < node.value:\n",
    "                selected_node = node\n",
    "        selected_nodes.append(node)\n",
    "        level -= 1\n",
    "    return selected_nodes"
   ]
  },
  {
   "cell_type": "code",
   "execution_count": 25,
   "id": "73d6ac87",
   "metadata": {},
   "outputs": [],
   "source": [
    "a = node(1, 'X')\n",
    "b = node(2, 'X')\n",
    "c = node(3, 'X', [a, b])\n",
    "d = node(4, 'X')\n",
    "e = node(5, 'X')\n",
    "f = node(6, 'X', [d, e])\n",
    "g = node(7, 'X', [f, c])\n",
    "\n",
    "all_nodes = []\n",
    "walk_tree(g, all_nodes)\n",
    "selected_nodes = backward_induction_solve(g, all_nodes)"
   ]
  },
  {
   "cell_type": "code",
   "execution_count": 28,
   "id": "4ea409d7",
   "metadata": {},
   "outputs": [
    {
     "data": {
      "text/plain": [
       "['val: 6 level: 1',\n",
       " 'val: 4 level: 2',\n",
       " 'val: 5 level: 2',\n",
       " 'val: 3 level: 1',\n",
       " 'val: 1 level: 2',\n",
       " 'val: 2 level: 2']"
      ]
     },
     "execution_count": 28,
     "metadata": {},
     "output_type": "execute_result"
    }
   ],
   "source": [
    "[\"val: \" + repr(x.value) + \" level: \" + repr(x.count_level()) for x in all_nodes]"
   ]
  },
  {
   "cell_type": "code",
   "execution_count": 22,
   "id": "5eacb0e2",
   "metadata": {},
   "outputs": [
    {
     "name": "stdout",
     "output_type": "stream",
     "text": [
      "|\n",
      "'X': 7\n",
      "|\n",
      "---'X': 6\n",
      "|\n",
      "------'X': 4\n",
      "|\n",
      "------'X': 5\n",
      "|\n",
      "---'X': 3\n",
      "|\n",
      "------'X': 1\n",
      "|\n",
      "------'X': 2\n",
      "\n"
     ]
    }
   ],
   "source": [
    "print(str(g))"
   ]
  }
 ],
 "metadata": {
  "kernelspec": {
   "display_name": "Python 3 (ipykernel)",
   "language": "python",
   "name": "python3"
  },
  "language_info": {
   "codemirror_mode": {
    "name": "ipython",
    "version": 3
   },
   "file_extension": ".py",
   "mimetype": "text/x-python",
   "name": "python",
   "nbconvert_exporter": "python",
   "pygments_lexer": "ipython3",
   "version": "3.7.9"
  }
 },
 "nbformat": 4,
 "nbformat_minor": 5
}
