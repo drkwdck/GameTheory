{
 "cells": [
  {
   "cell_type": "markdown",
   "id": "f349b5b1",
   "metadata": {},
   "source": [
    "## 1. Построение мета-игры "
   ]
  },
  {
   "cell_type": "markdown",
   "id": "1e92deb0",
   "metadata": {},
   "source": [
    "Добавим параметры в наши исходные игры. Начнем с игры **XA** (немного округлим значения, чтобы матрица игры не была слищком сложной)"
   ]
  },
  {
   "cell_type": "markdown",
   "id": "35d9324a",
   "metadata": {},
   "source": [
    "$$\n",
    "G_{XA} = \n",
    "\\left(\n",
    "\\begin{matrix}\n",
    "   3x & 6x & x \\\\\n",
    "   5x & 5x & 5x  \\\\\n",
    "   6x & 6x & 4x  \n",
    "\\end{matrix}\n",
    "\\right)\n",
    "$$\n",
    "\n",
    "Ограничим прибыль за месяц для обеих кофейнь: $x \\leq 36000$ \n",
    "\n",
    "Тогда прибыль за весь период продаж обеих кофейнь будет варьироваться от нуля до максимальной прибыли, которая возможна, т.е $$0 \\leq \\sum x\\leq 108 000$$"
   ]
  },
  {
   "cell_type": "markdown",
   "id": "599bfd6b",
   "metadata": {},
   "source": [
    "В последний месяц продажи кофе падают, так как наступае зима и \"кофе с собой\" становится менее привлекательным для потребятиля.\n",
    "Чтобы како-то исправить положение, наши предприятия решают выпускать кофе с корицей (в надежде на то, что он будет более привлекательным в декабре). Но количество таких чашек ограничено, т.к. достать все составляющие зимой достаточно сложно.\n",
    "\n",
    "\n",
    "Максимальное количество новых чашек в месяц: $T = 500$ штук. Цена одной такой чашки - 250р (при себестоимости в 150р -> доход $p_x = 100$р).\n",
    "\n",
    "Сколько же таких чашек сможет продать наша кофейня с учетом ограничения на прибыль?\n",
    "$$T = 3600$$ чашек.\n",
    "\n",
    "Тогда прибыль нашей кофейни в последний месяц будем искать по закону:\n",
    "$$\n",
    "P = (3x - \\sum x) + cTp_x, \\ где\n",
    "$$\n",
    "* c - значение от 0 до 1, в которое мы должны увеличить варку нового кофе\n",
    "* M - максимальное количество новых чашек кофе\n",
    "* $p_x$ - прибыль от продажи новой чашки кофе\n",
    "\n",
    "Дополнительно введем льготы малому бизнесу, добавляя к прибыли выплаты: $r$ не более 3% от прибилы."
   ]
  },
  {
   "cell_type": "markdown",
   "id": "bbed54ae",
   "metadata": {},
   "source": [
    "Учитывая все ограничения, получим матрицу игры\n",
    "$$\n",
    "G_{XA} = \n",
    "\\left(\n",
    "\\begin{matrix}\n",
    "   3x(1 + r) & 6x(1 + r) & x(1 + r) \\\\\n",
    "   5x(1 + r) & 5x(1 + r) & 5x(1 + r)  \\\\\n",
    "   6x(1 + r) + 5000c(1 + r) & 6x(1 + r) + 5000c(1 + r) & 4x(1 + r) + 5000c(1 + r)\n",
    "\\end{matrix}\n",
    "\\right)\n",
    "$$"
   ]
  },
  {
   "cell_type": "markdown",
   "id": "97859bf6",
   "metadata": {},
   "source": [
    "Аналогично составим матрицы оставшихся двух игр:\n",
    "$$\n",
    "G_{XB} = \n",
    "\\left(\n",
    "\\begin{matrix}\n",
    "   x(1 + r) & 2x(1 + r) \\\\\n",
    "   x(1 + r) & x(1 + r)  \\\\\n",
    "   1.25x(1 + r) + 5000c(1 + r) & 1.25x(1 + r) + 5000c(1 + r)  \\\\\n",
    "\\end{matrix}\n",
    "\\right)\n",
    "$$\n",
    "\n",
    "$$\n",
    "G_{XC} = \n",
    "\\left(\n",
    "\\begin{matrix}\n",
    "   1.3x(r + 1) & 2x(r + 1) & x(r + 1) \\\\\n",
    "   1.5x(r + 1) + 5000c(r + 1)& 1.5x(r + 1) + 5000c(1 + r) & 1.5x(r + 1) + 5000c(1 + r)  \\\\\n",
    "\\end{matrix}\n",
    "\\right)\n",
    "$$"
   ]
  },
  {
   "cell_type": "markdown",
   "id": "f9c93c97",
   "metadata": {},
   "source": [
    "## 2. Вектор параметров"
   ]
  },
  {
   "cell_type": "markdown",
   "id": "38b150d0",
   "metadata": {},
   "source": [
    "Векто параметров в нашем случае имеет вид:\n",
    "$$\n",
    "M = [x, c, r]\n",
    "$$"
   ]
  },
  {
   "cell_type": "markdown",
   "id": "6f98ef15",
   "metadata": {},
   "source": [
    "## 3. Невязка"
   ]
  },
  {
   "cell_type": "markdown",
   "id": "a3e887bc",
   "metadata": {},
   "source": [
    "Допустим с текущим конкретным вектором $M_0$ у вас получается игра $G_0$ и стратегии $A,B$\n",
    "$$\n",
    "F(M_0) = \\sum a_i b_j G[i,j](M_0)\n",
    "$$\n",
    "\n",
    "$$\n",
    "\\sigma_1 = [ \\sigma, 0,0]\\\\\n",
    "\\sigma_2 = [0, \\sigma,0 ]\\\\\n",
    "\\sigma_3 = [0,0,\\sigma ]\n",
    "\\\\\n",
    "\\sigma = 0.02\n",
    "$$"
   ]
  },
  {
   "cell_type": "markdown",
   "id": "b7ee52df",
   "metadata": {},
   "source": [
    "Далее высчитываем невязку: \n",
    "$$\n",
    "\\Delta_1 = F(M_0 + \\sigma_1) - F(M_0)\n",
    "$$\n",
    "И вектор невязки:\n",
    "$$\n",
    "\\Delta = [\\Delta_1,\\Delta_2,\\Delta_3]\n",
    "$$"
   ]
  },
  {
   "cell_type": "markdown",
   "id": "fc20271a",
   "metadata": {},
   "source": [
    "## 4. Поиск невязки на python"
   ]
  },
  {
   "cell_type": "markdown",
   "id": "9d049a80",
   "metadata": {},
   "source": [
    "Возьмем в качестве начального вектора\n",
    "$$\n",
    "M = [30000, 0.5, 0.01]\n",
    "$$"
   ]
  },
  {
   "cell_type": "markdown",
   "id": "752668cf",
   "metadata": {},
   "source": [
    "### XA"
   ]
  },
  {
   "cell_type": "code",
   "execution_count": 102,
   "id": "f3b79b54",
   "metadata": {},
   "outputs": [],
   "source": [
    "from scipy.optimize import linprog\n",
    "import numpy as np\n",
    "import math\n",
    "\n",
    "def get_game(x_coefs: np.ndarray, M: list) -> list:\n",
    "    res = np.zeros(x_coefs.shape)\n",
    "    for i in range(x_coefs.shape[0]):\n",
    "        for j in range(x_coefs.shape[1]):\n",
    "            res[i][j] = M[0] * x_coefs[i][j] * (1 + M[2])\n",
    "    for j in range(res.shape[1]):\n",
    "        res[res.shape[0] - 1][j] += 5000 * M[1]*(1 + M[2])\n",
    "    return res\n",
    "\n",
    "def solve_game(x_coefs: np.ndarray, M: list, sigma: float):\n",
    "    game_m = get_game(x_coefs, M)\n",
    "    print(\"Платежная матрица:\\n{0}\".format(game_m))\n",
    "\n",
    "    #Теперь посмотрим, как влияет сигма на нашу матрицу.\n",
    "    # Для этого будем добавлять сигму в входным параметрам и смотреть, как отклоняется решение игры\n",
    "    # Когда мы прибавляем сигму к x, то умножаем ее на 100 из-за большой разницы в порядках чисел\n",
    "    simed_games = []\n",
    "    simed_games.append(-get_game(x_coefs, [x + sigma * 100, c, r]))\n",
    "    simed_games.append(-get_game(x_coefs, [x, c + sigma, r]))\n",
    "    simed_games.append(-get_game(x_coefs, [x, c, r + sigma]))\n",
    "\n",
    "    simga_impacts = []\n",
    "\n",
    "    f = np.ones(x_coefs.shape[1])\n",
    "    b = (-1) * np.ones(x_coefs.shape[0])\n",
    "    for simed_game in simed_games:\n",
    "        simga_impacts.append(linprog(f, simed_game, b))\n",
    "\n",
    "    F_M0 = 1 / linprog(f, game_m, b).fun\n",
    "\n",
    "    deltas = []\n",
    "    for simga_impact in simga_impacts:\n",
    "        deltas.append(round(1 / simga_impact.fun - F_M0))\n",
    "\n",
    "    print(\"Невязка: {0}\".format(deltas))\n",
    "\n",
    "    normalized_deltas = 0\n",
    "    for delta in deltas:\n",
    "        normalized_deltas += delta ** 2\n",
    "    normalized_deltas = math.sqrt(normalized_deltas)\n",
    "\n",
    "    print(\"Нормализованный вектор невязки: {0}\".format(np.array(deltas) / normalized_deltas))"
   ]
  },
  {
   "cell_type": "code",
   "execution_count": 103,
   "id": "ed3aee2c",
   "metadata": {},
   "outputs": [
    {
     "name": "stdout",
     "output_type": "stream",
     "text": [
      "Платежная матрица:\n",
      "[[ 90900. 181800.  30300.]\n",
      " [151500. 151500. 151500.]\n",
      " [184325. 184325. 123725.]]\n",
      "[[ -90960.6 -181921.2  -30320.2]\n",
      " [-151601.  -151601.  -151601. ]\n",
      " [-184446.2 -184446.2 -123805.8]]\n",
      "[[ -90900. -181800.  -30300.]\n",
      " [-151500. -151500. -151500.]\n",
      " [-185335. -185335. -124735.]]\n",
      "[[-108900. -217800.  -36300.]\n",
      " [-181500. -181500. -181500.]\n",
      " [-220825. -220825. -148225.]]\n",
      "Невязка: [101354, 101253, 131253]\n",
      "Нормализованный вектор невязки: [0.52163897 0.52111915 0.67552025]\n"
     ]
    }
   ],
   "source": [
    "T = 500\n",
    "x = 30000\n",
    "c = 0.5\n",
    "r = 0.01\n",
    "sigma = 0.2\n",
    "\n",
    "M = [x, c, r]\n",
    "x_coefs = np.array([[3, 6, 1],\n",
    "                  [5, 5, 5],\n",
    "                  [6, 6, 4]])\n",
    "\n",
    "solve_game(x_coefs, M, sigma)"
   ]
  },
  {
   "cell_type": "markdown",
   "id": "6bc67441",
   "metadata": {},
   "source": [
    "Сформируем профиль решения мета-игры (вектор-градиент спуска функции стоимости игры по ее профилю), описывав его словестно.\n",
    "Мы видим, что по всем трем параметрам наш вектор положителен.\n",
    " * Первая координата положительна, т.к. увеличение прибыли для нас явно будет полезно\n",
    " * Вторая координата положительна, т.к. увеличение объемов производства влечет за собой увеличение прибыли\n",
    " * Третья координата положительна, т.к. с увеличением льгот (надбавки на прибыль), наша выгода растет\n",
    " "
   ]
  },
  {
   "cell_type": "markdown",
   "id": "c2b23e0b",
   "metadata": {},
   "source": [
    "### XB"
   ]
  },
  {
   "cell_type": "code",
   "execution_count": 106,
   "id": "d5a34ed3",
   "metadata": {},
   "outputs": [
    {
     "name": "stdout",
     "output_type": "stream",
     "text": [
      "Платежная матрица:\n",
      "[[39390. 30300. 60600.]\n",
      " [47975. 47975. 47975.]]\n",
      "[[-39416.26 -30320.2  -60640.4 ]\n",
      " [-48005.3  -48005.3  -48005.3 ]]\n",
      "[[-39390. -30300. -60600.]\n",
      " [-48985. -48985. -48985.]]\n",
      "[[-47190. -36300. -72600.]\n",
      " [-57475. -57475. -57475.]]\n",
      "Невязка: [14509, 15489, 23979]\n",
      "Нормализованный вектор невязки: [0.45309383 0.48369773 0.74882741]\n"
     ]
    }
   ],
   "source": [
    "T = 500\n",
    "x = 30000\n",
    "c = 0.5\n",
    "r = 0.01\n",
    "sigma = 0.2\n",
    "\n",
    "M = [x, c, r]\n",
    "x_coefs = np.array([[1.3, 1, 2],\n",
    "                  [1.5, 1.5, 1.5]])\n",
    "solve_game(x_coefs, M, sigma)"
   ]
  },
  {
   "cell_type": "markdown",
   "id": "f4c5c95d",
   "metadata": {},
   "source": [
    "В этой игре имеют место те же выводы, что мы сделали для матрицы **XA**"
   ]
  },
  {
   "cell_type": "markdown",
   "id": "ad7d3cc5",
   "metadata": {},
   "source": [
    "### XC"
   ]
  },
  {
   "cell_type": "code",
   "execution_count": null,
   "id": "a9af27d9",
   "metadata": {},
   "outputs": [],
   "source": [
    "T = 500\n",
    "x = 30000\n",
    "c = 0.5\n",
    "r = 0.01\n",
    "sigma = 0.2\n",
    "\n",
    "M = [x, c, r]\n",
    "x_coefs = np.array([[1.3, 2, 1],\n",
    "                  [1, 1],\n",
    "                  [1.25, 1.25]])\n",
    "solve_game(x_coefs, M, sigma)"
   ]
  },
  {
   "cell_type": "markdown",
   "id": "bae2326d",
   "metadata": {},
   "source": [
    "В этой игре имеют место те же выводы, что мы сделали для матрицы **XA**"
   ]
  },
  {
   "cell_type": "code",
   "execution_count": null,
   "id": "64e80a46",
   "metadata": {},
   "outputs": [],
   "source": []
  }
 ],
 "metadata": {
  "kernelspec": {
   "display_name": "Python 3 (ipykernel)",
   "language": "python",
   "name": "python3"
  },
  "language_info": {
   "codemirror_mode": {
    "name": "ipython",
    "version": 3
   },
   "file_extension": ".py",
   "mimetype": "text/x-python",
   "name": "python",
   "nbconvert_exporter": "python",
   "pygments_lexer": "ipython3",
   "version": "3.7.9"
  }
 },
 "nbformat": 4,
 "nbformat_minor": 5
}
