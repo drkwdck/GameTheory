{
 "cells": [
  {
   "cell_type": "markdown",
   "metadata": {},
   "source": [
    "\n",
    "### Отчет по исследованию матричных игр\n",
    "\n",
    "**Выполнил**: Решетников Егор Алексеевич (ПМ-41) (reshetnikov.e.a@mail.ru)\n",
    "\n",
    "**Преподаватель**: Гурьянов М.А., кафедра ВМ-1\n"
   ]
  },
  {
   "cell_type": "markdown",
   "metadata": {},
   "source": [
    "Весенний семестр, 2022 год"
   ]
  },
  {
   "cell_type": "markdown",
   "metadata": {},
   "source": [
    "МИЭТ, Зеленоград"
   ]
  },
  {
   "cell_type": "markdown",
   "metadata": {},
   "source": [
    "### Глава 1. Инструментарий"
   ]
  },
  {
   "cell_type": "markdown",
   "metadata": {},
   "source": [
    "Матричные игры\n",
    "$$\n",
    "G = \n",
    "\\left(\n",
    "\\begin{matrix}\n",
    "  a_{1,1} & a_{1,2} & \\cdots & a_{1,n} \\\\\n",
    "  a_{2,1} & a_{2,2} & \\cdots & a_{2,n} \\\\\n",
    "  \\vdots  & \\vdots  & \\ddots & \\vdots  \\\\\n",
    "  a_{m,1} & a_{m,2} & \\cdots & a_{m,n} \n",
    "\\end{matrix}\n",
    "\\right)\n",
    "$$\n",
    "Стратегия игрока А:\n",
    "$$\n",
    "x = [x_1,x_2,\\cdots, x_m]\\\\\n",
    "\\sum x_i = 1\n",
    "$$\n",
    "Стратегия игрока B:\n",
    "$$\n",
    "y = [y_1,y_2,\\cdots, y_n]\\\\\n",
    "\\sum y_j = 1\n",
    "$$\n",
    "Математическое ожидание выигрыша:\n",
    "$$\n",
    "F = X \\cdot G \\cdot Y' = \\sum_{i,j}a_{ij}x_iy_j\n",
    "$$"
   ]
  },
  {
   "cell_type": "markdown",
   "metadata": {},
   "source": [
    "______________________\n",
    "#### Задача линейного программирования, решаемая linprog\n",
    "ЗЛП (задача линейного программирования) - сделать выигрыш $F$ максимальным.\n",
    "______________________"
   ]
  },
  {
   "cell_type": "markdown",
   "metadata": {},
   "source": [
    "##### Оптимальная стратегия. Метод минимакс и максимин.\n",
    "**Определение**. Для каждого игрока для каждой из стратегий можно посчитать минимальный выигрыш или максимальный проигрыш.\n",
    "\n",
    "Минимальный выигрыш для игрока $A$ при выборе стратегии $j$ - минимальный элемент в соответствующей строке\n",
    "$$\n",
    "\\alpha_j = \\min_i G[i,j]\n",
    "$$\n",
    "\n",
    "Игрок А всегда старается выбрать стратегию так чтобы его минимальный возможный выигрыш был максимальным. т.е. для него цена игры при худшем раскладе будет\n",
    "$$\n",
    "\\alpha = \\max_j \\min_i G[i,j]\n",
    "$$\n",
    "\n",
    "Это число называют **максимин** или **нижняя цена игры**\n",
    "\n",
    "Максимальный проигрыш для игрока $A$ при выборе стратегии $i$ - минимальный элемент в соответствующей строке\n",
    "\n",
    "$$\n",
    "\\beta_i = \\max_i G[i,j]\n",
    "$$\n",
    "\n",
    "Второй игрок старается сделать свой проигрыш в худшем для него раскладе как можно меньше. тогда он старается минимизировать потери :\n",
    "\n",
    "$$\n",
    "\\beta = \\min_j \\max_i G[i,j]\n",
    "$$\n",
    "\n",
    "Это число называют **минимакс** или **верхняя цена игры**\n",
    "\n"
   ]
  },
  {
   "cell_type": "markdown",
   "metadata": {},
   "source": [
    "##### Теорема\n",
    "Если **нижняя цена игры** и **верхняя цена игры** совпадают то говорят что в игре есть оптимальная стратегия для двух игроков - **седловая точка**"
   ]
  },
  {
   "cell_type": "markdown",
   "metadata": {},
   "source": [
    "Алгоритм анализа матричной игры:\n",
    "\n",
    "* **Шаг 1**: Проанализировать текст игры и определить стратегии игроков (задать количество строк и количество столбцов)\n",
    "* **Шаг 2**: Для каждого хода каждого игрока выбрать и рассчитать функцию выигрыша. Для антогонистических игр убедиться что для обоих игроков функция означает одно и то же.\n",
    "* **Шаг 3**: Составить платежную матрицу игры\n",
    "* **Шаг 4**: Поставить ЗЛП (на лабах 1-3 будем делать этот шаг упрощенно)\n",
    "* **Шаг 5**: Упростить платежную матрицу методом СДС (начиная с лаб.4)\n",
    "* **Шаг 6А**: Решить в чистых стратегиях (если есть седловая точка)\n",
    "* **Шаг 6Б**: Решить в смешанных стратегиях (если нет седловой точки)"
   ]
  },
  {
   "cell_type": "markdown",
   "metadata": {},
   "source": [
    "### Глава 2. Задания"
   ]
  },
  {
   "cell_type": "markdown",
   "metadata": {},
   "source": [
    "#### Задание 1"
   ]
  },
  {
   "cell_type": "markdown",
   "metadata": {},
   "source": [
    "Дана матричная игра с платёжной матрицей\n",
    "$$\n",
    "G = \n",
    "\\begin{matrix}\n",
    "\\left(\n",
    "\\begin{matrix}\n",
    "   3 & 9 & 2 & 1 \\\\\n",
    "   7 & 8 & 5 & 6 \\\\\n",
    "   4 & 7 & 3 & 5 \\\\\n",
    "   5 & 6 & 1 & 7 \\\\\n",
    "\\end{matrix}\n",
    "\\right)\n",
    "& \n",
    "\\begin{matrix}\n",
    "   1 \\\\\n",
    "   [5] \\\\\n",
    "   3 \\\\\n",
    "   1 \\\\\n",
    "\\end{matrix}\n",
    "\\\\\n",
    "\\begin{matrix}\n",
    "7 & 9 & [5] & 7\n",
    "\\end{matrix} & \n",
    "\\end{matrix}\n",
    "$$\n",
    "\n",
    "Как видно у матрицы есть вполне четкое оптимальное решение"
   ]
  },
  {
   "cell_type": "markdown",
   "metadata": {},
   "source": [
    "**Задание для лабораторной**: Написать программу которая проверяет наличие оптимальной стратегии и выводит его. Не используем **linprog**"
   ]
  },
  {
   "cell_type": "code",
   "execution_count": 6,
   "metadata": {},
   "outputs": [
    {
     "name": "stdout",
     "output_type": "stream",
     "text": [
      "(индексы начинаются с 0)\n",
      "Оптимальная стратегия игрока 1: i = 1\n",
      "Оптимальная стратегия игрока 2: j = 2\n",
      "Нижние и верхние цены совпали, найдена седловая точка\n",
      "i = 1\n",
      "j = 2\n",
      "Значение седловой точки: 5\n"
     ]
    }
   ],
   "source": [
    "## Код на Питоне\n",
    "\n",
    "import numpy as np\n",
    "\n",
    "# Функция проверки наличия оптимальной стратегии и его вывода для произвольной платежной матрицы\n",
    "def solve(game: np.ndarray):\n",
    "    print(\"(индексы начинаются с 0)\")\n",
    "    # т.к. использовать linprog нельзя, найдем максимин и минимакс \"в лоб\"\n",
    "\n",
    "    # Найдем максимин\n",
    "    min_column_numbers = [np.where(row==min(row))[0][0]  for row in game]\n",
    "    max_value = -1000000\n",
    "    maxmin_row_number = 0\n",
    "    maxmin_column_number = 0\n",
    "    for row_number, column_number in zip(range(game.shape[0]), min_column_numbers):\n",
    "            if game[row_number][column_number] > max_value:\n",
    "                max_value = game[row_number][column_number]\n",
    "                maxmin_row_number = row_number\n",
    "                maxmin_column_number = column_number\n",
    "    print(\"Оптимальная стратегия игрока 1: i = {0}\".format(maxmin_row_number))\n",
    "\n",
    "    # Найдем минимакс\n",
    "    max_row_numbers = [np.where(row==max(row))[0][0]  for row in game.T]\n",
    "    min_value = 1000000000\n",
    "    minmax_column_number = 0\n",
    "    minmax_row_number = 0\n",
    "    for row_number, column_number in zip(max_row_numbers, range(game.shape[1])):\n",
    "        if game[row_number][column_number] < min_value:\n",
    "            min_value = game[row_number][column_number]\n",
    "            minmax_column_number = column_number\n",
    "            minmax_row_number = row_number\n",
    "    print(\"Оптимальная стратегия игрока 2: j = {0}\".format(minmax_column_number))\n",
    "\n",
    "    # Проверяем, найдена ли седловая точка\n",
    "    if minmax_column_number == maxmin_column_number and maxmin_row_number == minmax_row_number:\n",
    "        print(\"Нижние и верхние цены совпали, найдена седловая точка\")\n",
    "        print(\"i = {0}\".format(maxmin_row_number))\n",
    "        print(\"j = {0}\".format(minmax_column_number))\n",
    "        print(\"Значение седловой точки: {0}\".format(game[maxmin_row_number][minmax_column_number]))\n",
    "\n",
    "# произвольная платежная матрица (из задания)\n",
    "game = np.array([[3, 9, 2, 1], [7, 8, 5, 6], [4, 7, 3, 5], [5, 6, 1, 7]])\n",
    "\n",
    "# Вызов функции:\n",
    "solve(game)"
   ]
  },
  {
   "cell_type": "markdown",
   "metadata": {},
   "source": [
    "#### Linprog и решение задач оптимизации с ее использованием"
   ]
  },
  {
   "cell_type": "markdown",
   "metadata": {},
   "source": [
    "$$\n",
    "G = \n",
    "\\begin{matrix}\n",
    "\\left(\n",
    "\\begin{matrix*}[r]\n",
    "  2 & 0\\\\\n",
    "  0 & 6\n",
    "\\end{matrix*}\n",
    "\\right)\n",
    "& \n",
    "\\begin{matrix}\n",
    "  0 \\\\\n",
    "  [0]\n",
    "\\end{matrix}\n",
    "\\\\\n",
    "\\begin{matrix}\n",
    "[2] & 6\n",
    "\\end{matrix} & \n",
    "\\end{matrix}\n",
    "$$"
   ]
  },
  {
   "cell_type": "code",
   "execution_count": 2,
   "metadata": {},
   "outputs": [
    {
     "name": "stdout",
     "output_type": "stream",
     "text": [
      "1.5\n",
      "[0.75 0.25]\n"
     ]
    }
   ],
   "source": [
    "from scipy.optimize import linprog\n",
    "import numpy as np\n",
    "\n",
    "f =  [-1, -1]\n",
    "Game = [[2, 0],[0, 6]]\n",
    "b = [1, 1]\n",
    "res = linprog(f,Game,b)\n",
    "cost = -1/res.fun\n",
    "strategy = res.x * cost\n",
    "print (cost)\n",
    "print (strategy)\n",
    "##print (res)"
   ]
  },
  {
   "cell_type": "code",
   "execution_count": null,
   "metadata": {},
   "outputs": [],
   "source": []
  },
  {
   "cell_type": "markdown",
   "metadata": {},
   "source": [
    "$$\n",
    "G = \n",
    "\\begin{matrix}\n",
    "\\left(\n",
    "\\begin{matrix}\n",
    "   1 & 0 & 4 \\\\\n",
    "   5 & 3 & 8  \\\\\n",
    "   6 & 0 & 1  \n",
    "\\end{matrix}\n",
    "\\right)\n",
    "& \n",
    "\\begin{matrix}\n",
    "   0 \\\\\n",
    "   [3] \\\\\n",
    "   0 \\\\\n",
    "\\end{matrix}\n",
    "\\\\\n",
    "\\begin{matrix}\n",
    "6 & [3] & 8 \n",
    "\\end{matrix} & \n",
    "\\end{matrix}\n",
    "$$"
   ]
  },
  {
   "cell_type": "code",
   "execution_count": 3,
   "metadata": {},
   "outputs": [
    {
     "name": "stdout",
     "output_type": "stream",
     "text": [
      "3\n",
      "[0. 1. 0.]\n"
     ]
    }
   ],
   "source": [
    "f =  [-1, -1, -1]\n",
    "Game = [[1, 0, 4],[5, 3, 8],[6, 0, 1]]\n",
    "b = [1, 1, 1]\n",
    "res = linprog(f,Game,b)\n",
    "cost = -1/res.fun\n",
    "strategy = res.x * cost\n",
    "## print (cost)\n",
    "## print (strategy)\n",
    "## print (res)\n",
    "\n",
    "## As you can see, the numerical method has its limitations \n",
    "# - it can lack precision\n",
    "# In this case  the Game has an optimum in Pure srtategies \n",
    "# so the cost and the strategy should consist of INT only. \n",
    "# Lets fix\n",
    "\n",
    "strategy = np.round(np.array(strategy),1)\n",
    "print (round(cost))\n",
    "print (strategy)"
   ]
  },
  {
   "cell_type": "code",
   "execution_count": 4,
   "metadata": {},
   "outputs": [
    {
     "name": "stdout",
     "output_type": "stream",
     "text": [
      "5\n",
      "1.0\n",
      "-0.20000000258614797\n",
      "0\n",
      "[-0. -0. -0. -0.]\n"
     ]
    }
   ],
   "source": [
    "## Код на Питоне\n",
    "\n",
    "f =  [-1, -1, -1, -1]\n",
    "\n",
    "## Do not forget to interrupt long \n",
    "# lines of code for better readability. \n",
    "# the width of 80 simbols is considered \n",
    "# to be the maximum for most usecases\n",
    "\n",
    "Game = [[3, 9, 2, 1],\n",
    "    [7, 8, 5, 6],\n",
    "    [4, 7, 3, 5],\n",
    "    [5, 6, 1, 7]]\n",
    "\n",
    "b = [1, 1, 1, 1]\n",
    "res = linprog(f,Game,b)\n",
    "cost = -1/res.fun\n",
    "strategy = res.x * cost\n",
    "## print (cost)\n",
    "## print (strategy)\n",
    "## print (res)\n",
    "\n",
    "strategy = np.round(np.array(strategy),1)\n",
    "print (round(cost))\n",
    "print (max(strategy))\n",
    "\n",
    "## Note that we found best strategy for the player B. \n",
    "# Try to understand why and how to check \n",
    "# the outcome for player A by yourself. \n",
    "# Read manuals for LINPROG\n",
    "f =  np.array([-1, -1, -1, -1])\n",
    "\n",
    "game = np.array([[3, 9, 2, 1],\n",
    "                 [7, 8, 5, 6],\n",
    "                 [4, 7, 3, 5],\n",
    "                 [5, 6, 1, 7]])\n",
    "\n",
    "b = np.array([1, 1, 1, 1])\n",
    "res = linprog(f,game,b)\n",
    "print(res.fun)\n",
    "cost = res.fun\n",
    "strategy = res.x * cost\n",
    "## print (cost)\n",
    "## print (strategy)\n",
    "## print (res)\n",
    "\n",
    "strategy = np.round(np.array(strategy),1)\n",
    "print (round(cost))\n",
    "print (strategy)\n"
   ]
  },
  {
   "cell_type": "markdown",
   "metadata": {},
   "source": [
    "#### Задание 3\n",
    "Выбрать текстовую игру и разобрать ее по 6 шагам (у студентов не должны повторяться игры)"
   ]
  },
  {
   "cell_type": "markdown",
   "metadata": {},
   "source": [
    "**\"камень-ножницы-бумага\"**\n",
    "\n",
    "Каждый игрок во время своего хода независимо от другого выбирает одну из трех стратегий, называемых «камень», «ножницы» и «бумага». Выбранные стратегии сравниваются. Если они совпадают, выигрыш первого игрока составляет 0 (ничья), в\n",
    "противном случае побеждает игрок с более сильной стратегией. «Камень»\n",
    "считается сильнее «ножниц», которые, в свою очередь, сильнее «бумаги»,\n",
    "которая сильнее «камня». Выигрыш победившего игрока составляет 1,\n",
    "проигравшего -1."
   ]
  },
  {
   "cell_type": "markdown",
   "metadata": {},
   "source": [
    "#### Алгоритм анализа матричной игры\n",
    "* **Шаг 1**: Проанализировать текст игры и определить стратегии игроков (задать количество строк и количество столбцов)\n",
    "\n",
    "Старетгия каждого из игроков заключаются в выборе \"камня\", \"ножниц\" или \"бумаги\". Таким образом, в нашей платёжной матрице будет 3 строки и 3 столбца.\n",
    "\n",
    "* **Шаг 2**: Для каждого хода каждого игрока выбрать и рассчитать функцию выигрыша. Для антогонистических игр убедиться что для обоих игроков функция означает одно и то же\n",
    "\n",
    "Функция выигрыша для первого игрока имеет вид:\n",
    "\n",
    "$$\n",
    "F_{1} =\n",
    "\\begin{cases}\n",
    "0 & x=y\\\\\n",
    "1 & (x, y) ∈ \\{(3, 1), (2, 1), (3, 2)\\}\\\\\n",
    "-1 & (x, y) ∈ \\{(2, 1), (2, 3), (3, 1)\\}\n",
    "\\end{cases}\n",
    "$$\n",
    "\n",
    "Здесь 1 - \"Камень\", 2 - \"Ножницы\", 3 - \"Бумага\".\n",
    "\n",
    "Так как выигрыш первого игрока равен проигрышу второго, то: $$ F_{2}(x,y)=-F_{1}(x,y)$$\n",
    "\n",
    "* **Шаг 3**: Составить платежную матрицу игры\n",
    "Платежная матрицы игры имеет вид:\n",
    "$$\n",
    "G = \n",
    "\\begin{matrix}\n",
    "\\left(\n",
    "\\begin{matrix}\n",
    "   0 & 1 & -1\\\\\n",
    "   -1 & 0 & 1\\\\\n",
    "   1 & -1 & 0\\\\\n",
    "\\end{matrix}\n",
    "\\right)\n",
    "& \n",
    "\\begin{matrix}\n",
    "   \"Камень\" \\\\\n",
    "   \"Ножницы\" \\\\\n",
    "   \"Бумага\" \\\\\n",
    "\\end{matrix}\n",
    "\\\\\n",
    "\\begin{matrix}\n",
    "\"Камень\" & \"Ножницы\" & \"Бумага\"\n",
    "\\end{matrix} & \n",
    "\\end{matrix}\n",
    "$$\n",
    "\n",
    "\n",
    "\n",
    "* **Шаг 4**: Поставить ЗЛП (на лабах 1-3 будем делать этот шаг упрощенно)\n",
    "\n",
    "Стратегия игрока А:\n",
    "$$\n",
    "x = [x_1,x_2,\\cdots, x_m]\\\\\n",
    "\\sum x_i = 1\n",
    "$$\n",
    "Стратегия игрока B:\n",
    "$$\n",
    "y = [y_1,y_2,\\cdots, y_n]\\\\\n",
    "\\sum y_j = 1\n",
    "$$\n",
    "Математическое ожидание выигрыша:\n",
    "$$\n",
    "F = X \\cdot G \\cdot Y' = \\sum_{i,j}a_{ij}x_iy_j\n",
    "$$\n",
    "ЗЛП (задача линейного программирования) - сделать выигрыш  𝐹  максимальным.\n",
    "\n",
    "* **Шаг 5**: Упростить платежную матрицу методом СДС (начиная с лаб.4)\n",
    "\n",
    "* **Шаг 6**: Решить в смешанных стратегиях (если нет седловой точки)"
   ]
  },
  {
   "cell_type": "code",
   "execution_count": 10,
   "metadata": {},
   "outputs": [
    {
     "name": "stdout",
     "output_type": "stream",
     "text": [
      "(индексы начинаются с 0)\n",
      "Оптимальная стратегия игрока 1: i = 0\n",
      "Оптимальная стратегия игрока 2: j = 0\n",
      "0\n",
      "0.33333334885712756\n"
     ]
    }
   ],
   "source": [
    "## Код на Питоне\n",
    "\n",
    "# Задаим платженую матрицу и вызовем функцию из задания 1\n",
    "game = np.array([[0, 1, -1], [-1, 0, 1], [1, -1, 0]])\n",
    "\n",
    "solve(game)\n",
    "\n",
    "f =  [-1, -1, -1]\n",
    "Game = [[0, 1, -1], [-1, 0, 1], [1, -1, 0]]\n",
    "b = [1, 1, 1]\n",
    "res = linprog(f,Game,b)\n",
    "cost = -1/res.fun\n",
    "strategy = res.x * cost\n",
    "print (round(cost))\n",
    "print (max(strategy))"
   ]
  },
  {
   "cell_type": "code",
   "execution_count": null,
   "metadata": {},
   "outputs": [],
   "source": []
  },
  {
   "cell_type": "code",
   "execution_count": null,
   "metadata": {},
   "outputs": [],
   "source": []
  },
  {
   "cell_type": "code",
   "execution_count": null,
   "metadata": {},
   "outputs": [],
   "source": []
  },
  {
   "cell_type": "markdown",
   "metadata": {},
   "source": [
    "**Просуммируем, задания для исполнителей:**\n",
    "1. Составить конспект называющийся \"Глава 1: Инструментарий\" где изложить методы поиска седловой точки, 6 шагов разбора игры и сопуствующие термины и определения которые необходимы для понимания вашего текста.\n",
    "2. Написать программу проверяющую произвольную платежную матрицу на наличие седловых точек. Должна в читаемом виде выводить ответ.\n",
    "3. Скопировать пример с linprog и поменять так, чтобы он искал решение не для игрока B, а для игрока А\n",
    "4. Выбрать **текстовую** игру и разобрать ее по 6 шагам (у студентов не должны повторяться игры)"
   ]
  },
  {
   "cell_type": "markdown",
   "metadata": {},
   "source": [
    "**Задания для разработки**:\n",
    "1. Убрать лишний теоретический материал и лучше сгруппировать информацию\n",
    "2. Выбрать демо задачу и оформить ее разбор по всем 6 шагам.\n",
    "3. Найти в интернете или придумать как минимум 25 игр (их словестное описание) для индивидуальных заданий.\n",
    "\n",
    "25 игр ищем всей группой, каждый должен предложить уникальную игру и разложить ее по всем 6 шагам. Решить ее linprog.\n",
    "\n",
    "**Замечание**:\n",
    "На первой лабораторной работе это нормально не понимать всех аргументов **linprog** и запутаться в происходящем. Мы закладываем основу для нескольких лабораторных работ сразу. Если у вас есть предложения как сделать подачу материала лучше или интереснее - пишите замечания и предложения в разработку.  "
   ]
  }
 ],
 "metadata": {
  "interpreter": {
   "hash": "b3ba2566441a7c06988d0923437866b63cedc61552a5af99d1f4fb67d367b25f"
  },
  "kernelspec": {
   "display_name": "Python 3 (ipykernel)",
   "language": "python",
   "name": "python3"
  },
  "language_info": {
   "codemirror_mode": {
    "name": "ipython",
    "version": 3
   },
   "file_extension": ".py",
   "mimetype": "text/x-python",
   "name": "python",
   "nbconvert_exporter": "python",
   "pygments_lexer": "ipython3",
   "version": "3.7.9"
  }
 },
 "nbformat": 4,
 "nbformat_minor": 2
}
