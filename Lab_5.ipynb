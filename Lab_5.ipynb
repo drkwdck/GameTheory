{
 "cells": [
  {
   "cell_type": "markdown",
   "id": "e9added2",
   "metadata": {},
   "source": [
    "# Курсовая работа по теории игр"
   ]
  },
  {
   "cell_type": "markdown",
   "id": "34708c32",
   "metadata": {},
   "source": [
    "**Выполнил**: Решетников Егор Алексеевич (ПМ-41) (reshetnikov.e.a@mail.ru)\n",
    "\n",
    "**Преподаватель**: Гурьянов М.А., кафедра ВМ-1\n",
    "\n",
    "\n",
    "Весенний семестр, 2022 год\n",
    "\n",
    "МИЭТ, Зеленоград"
   ]
  },
  {
   "cell_type": "markdown",
   "id": "208dc08e",
   "metadata": {},
   "source": [
    "## 1. Выбор области исследования и перечня игроков"
   ]
  },
  {
   "cell_type": "markdown",
   "id": "5429f3c8",
   "metadata": {},
   "source": [
    "В качестве игрока **X** будет выступать небольшая кофейня **\"Латтерия\"** за МКАДом, в которой варится три вида кофе:\n",
    " * **Капучино** по цене в 194 рубля с себестоимостью в 77 рублей (доход 117)\n",
    " * **Латте** по цене в 216 рублей с себестоимостью 97 рублей (доход 119)\n",
    " * **Американо** по цене в 145 рубля с себестоимостью в 39 рублей (доход 106)"
   ]
  },
  {
   "cell_type": "markdown",
   "id": "e914725f",
   "metadata": {},
   "source": [
    "В таком случае функция прибыли принимает вид:\n",
    "$$\n",
    "П = К * 117 + Л * 119 + А * 106\n",
    "$$\n",
    "Где **К** - количество чашек капучино, которое может сварить кофейня за месяц (соответственно **Л** - латте, **А** - американо)"
   ]
  },
  {
   "cell_type": "markdown",
   "id": "98b62b0f",
   "metadata": {},
   "source": [
    "Сейчас наша кофейня **X** располгает ресурсами:\n",
    " * Капучино - 1 280 чашек в месяц\n",
    " * Латте - 1 150 чашек в месяц\n",
    " * Американо - 770 чашек в месяц\n",
    "\n",
    "Таким образом, максмиальная прибыль, которую может получить кофейня за месяц:\n",
    "$$$$\n",
    "П_M = 1280 * 117 + 1150 * 119 + 770 * 106 = 368 230 рублей\n",
    "$$$$"
   ]
  },
  {
   "cell_type": "markdown",
   "id": "f25a234e",
   "metadata": {},
   "source": [
    "**Перечень игроков**\n",
    " * **A** - **\"Кофе с собой\"**\n",
    " > * Капучино - 900 чашек в месяц\n",
    " > * Латте - 1 200 чашек в месяц\n",
    " > * Американо - 1 100 чашек в месяц\n",
    " \n",
    "`A = [900 1200 1100]` \n",
    " \n",
    " * **B** - **\"Кофеварим\"**\n",
    " > * Капучино - 880 чашек в месяц\n",
    " > * Латте - 745 чашек в месяц\n",
    " > * Американо - 1 500 чашек в месяц \n",
    " \n",
    "`B = [880 745 1500]`\n",
    " \n",
    " * **C** - **\"Hygge \"**\n",
    " > * Капучино - 1000 чашек в месяц\n",
    " > * Латте - 980 чашек в месяц\n",
    " > * Американо - 890 чашек в месяц \n",
    " \n",
    "`C = [1000 980 890]`\n",
    "\n",
    "Цены на все виды кофе и их себестоимость считаем такими же, как для игрока **X**.\n",
    "\n",
    "Количество кофе, которое люди готовы покупать в месяц:\n",
    " * Капучино - 1524\n",
    " * Латте - 1400\n",
    " * Американо - 1500"
   ]
  },
  {
   "cell_type": "markdown",
   "id": "d99d8b62",
   "metadata": {},
   "source": [
    "## 2. Список допустимых стратегий"
   ]
  },
  {
   "cell_type": "markdown",
   "id": "6849a59a",
   "metadata": {},
   "source": [
    "Необходимо сбалансировать количество чашек кофе таким образом, чтобы продажи за месяц были не более чем на 400 000 рублей и при этом прибыль была максимальна."
   ]
  },
  {
   "cell_type": "markdown",
   "id": "730ed80a",
   "metadata": {},
   "source": [
    "#### Допустимые стратегии игрока **X** "
   ]
  },
  {
   "cell_type": "markdown",
   "id": "265d9899",
   "metadata": {},
   "source": [
    " * $X_1$ - от текущего количества: продавать 80% капучино,  60% латте, 45% американо.\n",
    " >* В таком случае кофейня продаст кофе на 397 938 рублей\n",
    " \n",
    " * $X_2$ - от текущего количества: продавать 50% капучино,  50% латте, 45% американо.\n",
    " >* В таком случае кофейня продаст кофе на 298 602 рубля\n",
    " \n",
    " * $X_3$ - от текущего количества: продавать 60% капучино,  60% латте, 65% американо.\n",
    " >* В таком случае кофейня продаст кофе на 370 604 рубля"
   ]
  },
  {
   "cell_type": "markdown",
   "id": "66b0de8e",
   "metadata": {},
   "source": [
    "#### Допустимые стратегии игрока **A**\n",
    " * $A_1$ - от текущего количества: продавать 70% капучино,  40% латте, 75% американо.\n",
    " >* В таком случае кофейня продаст кофе на 297 675 рублей\n",
    " \n",
    " * $A_2$ - от текущего количества: продавать 50% капучино,  50% латте, 45% американо.\n",
    " >* В таком случае кофейня продаст кофе на 288 675 рублей\n",
    " \n",
    " * $A_3$ - от текущего количества: продавать 60% капучино,  60% латте, 65% американо.\n",
    " >* В таком случае кофейня продаст кофе на 363 955 рублей"
   ]
  },
  {
   "cell_type": "markdown",
   "id": "b40fec58",
   "metadata": {},
   "source": [
    "#### Допустимые стратегии игрока **B**\n",
    "\n",
    "* $B_1$ - от текущего количества: продавать 70% капучино,  50% латте, 55% американо.\n",
    " >* В таком случае кофейня продаст кофе на 212 339 рублей\n",
    " \n",
    "* $B_2$ - от текущего количества: продавать 50% капучино,  80% латте, 30% американо.\n",
    " >* В таком случае кофейня продаст кофе на 279 346 рублей\n",
    " \n",
    "* $B_3$ - от текущего количества: продавать 30% капучино,  30% латте, 75% американо.\n",
    " >* В таком случае кофейня продаст кофе на 262 617 рублей"
   ]
  },
  {
   "cell_type": "markdown",
   "id": "20d80e51",
   "metadata": {},
   "source": [
    "#### Допустимые стратегии игрока **C**\n",
    "\n",
    "* $C_1$ - от текущего количества: продавать 50% капучино,  80% латте, 25% американо.\n",
    " >* В таком случае кофейня продаст кофе на 298 606 рублей\n",
    " \n",
    "* $C_2$ - от текущего количества: продавать 40% капучино,  40% латте, 40% американо.\n",
    " >* В таком случае кофейня продаст кофе на 288 675 рублей\n",
    " \n",
    "* $C_3$ - от текущего количества: продавать 60% капучино,  60% латте, 75% американо.\n",
    " >* В таком случае кофейня продаст кофе на 340 195 рублей"
   ]
  },
  {
   "cell_type": "markdown",
   "id": "72ffb742",
   "metadata": {},
   "source": [
    "#### Допустимые стратегии в игре против всех"
   ]
  },
  {
   "cell_type": "markdown",
   "id": "314918ee",
   "metadata": {},
   "source": [
    " * $A_1 B_1 C_1$ - сократить продажи всех видов кофе на 30%\n",
    " * $A_2 B_2 C_2$ - сократить продажи всех видов кофе на 20%\n",
    " * $A_3 B_3 C_3$ - сократить продажи всех видов кофе на 40%"
   ]
  },
  {
   "cell_type": "markdown",
   "id": "ef42e602",
   "metadata": {},
   "source": [
    "## 3. Фукнция выигрыша и платежные матрицы"
   ]
  },
  {
   "cell_type": "markdown",
   "id": "c610b8bf",
   "metadata": {},
   "source": [
    "#### Функция выигрыша\n",
    "\n",
    "Функция выигрыша для k-ого игрока в нашем случае принимает вид:\n",
    "$$\n",
    "F_k = \\begin{cases} \n",
    "    \\sum p_i  n_i,если    \\sum_k n_i <= V_i  \\\\\n",
    "    0 - иначе\n",
    "    \\end{cases}\n",
    "$$\n",
    "\n",
    "где\n",
    " * k = 1,..., 4 - номер игрока (X: k = 1, A: k = 2, B: k = 3, C: k = 4)\n",
    " * i = 1, ..., 3 - номер вида кофе (капучино = 1, латте = 2, американо = 3)\n",
    " * n_i - кол-во проданных чашек кофе вида i\n",
    " * p_i - прибыль от одной чашки кофе вида i\n"
   ]
  },
  {
   "cell_type": "markdown",
   "id": "0d18317d",
   "metadata": {},
   "source": [
    "#### Платежные матрицы"
   ]
  },
  {
   "cell_type": "markdown",
   "id": "661fa7aa",
   "metadata": {},
   "source": [
    "##### XA\n",
    "$$\n",
    "G_{XA} = \n",
    "\\left(\n",
    "\\begin{matrix}\n",
    "   118839 & 238647 & 36729 \\\\\n",
    "   180034 & 180034 & 180034  \\\\\n",
    "   225019 & 225019 & 142909  \n",
    "\\end{matrix}\n",
    "\\right)\n",
    "$$\n"
   ]
  },
  {
   "cell_type": "markdown",
   "id": "471bd208",
   "metadata": {},
   "source": [
    "##### XB\n",
    "Исключим стратегию $B_3$ и получим матрицу 3 на 2:"
   ]
  },
  {
   "cell_type": "markdown",
   "id": "7e745ea0",
   "metadata": {},
   "source": [
    "$$\n",
    "G_{XB} = \n",
    "\\left(\n",
    "\\begin{matrix}\n",
    "   118839 & 238647 \\\\\n",
    "   180034 & 180034  \\\\\n",
    "   225019 & 225019  \\\\\n",
    "\\end{matrix}\n",
    "\\right)\n",
    "$$"
   ]
  },
  {
   "cell_type": "markdown",
   "id": "af130050",
   "metadata": {},
   "source": [
    "##### XC\n",
    "Исключим стратегию $X_3$ и получим матрицу 2 на 3:\n",
    "$$\n",
    "G_{XB} = \n",
    "\\left(\n",
    "\\begin{matrix}\n",
    "   156537 & 238647 & 118839 \\\\\n",
    "   180034 & 180034 & 180034  \\\\\n",
    "\\end{matrix}\n",
    "\\right)\n",
    "$$"
   ]
  },
  {
   "cell_type": "markdown",
   "id": "eb54c770",
   "metadata": {},
   "source": [
    "## 4. Анализ платежных матриц с точки зрения СДС, linprog, графического решения"
   ]
  },
  {
   "cell_type": "markdown",
   "id": "0a550917",
   "metadata": {},
   "source": [
    "Для начала инициализируем методы, взяв их из прошлых лабораторных работ"
   ]
  },
  {
   "cell_type": "code",
   "execution_count": 1,
   "id": "56fb3608",
   "metadata": {},
   "outputs": [],
   "source": [
    "## Код на Питоне\n",
    "import numpy as np\n",
    "import random\n",
    "import matplotlib.pyplot as plt\n",
    "\n",
    "random.seed(42)\n",
    "\n",
    "# СДС\n",
    "def dominated_strategies_excluding(matrix: np.ndarray, print_message: bool = True) -> (int, np.ndarray):\n",
    "    deleted_rows_count = 0\n",
    "\n",
    "    while True:\n",
    "        # составляем строку из минимумов\n",
    "        min_values_by_columns = np.array([min(column) for column in matrix.T])\n",
    "        rows_to_delete = []\n",
    "\n",
    "        # проверяем, есть ли такая в матрице\n",
    "        for i in range(matrix.shape[0]):\n",
    "            all_items_matched = True\n",
    "            \n",
    "            for j in range(matrix.shape[1]):\n",
    "                if matrix[i][j] != min_values_by_columns[j]:\n",
    "                    all_items_matched = False\n",
    "                    break\n",
    "            if all_items_matched:\n",
    "                rows_to_delete.append(i)\n",
    "        \n",
    "        # Если уже все удалили\n",
    "        if len(rows_to_delete) == 0 or matrix.shape[0] == 1:\n",
    "            break\n",
    "        \n",
    "        # Удаляем строки\n",
    "        deleted_rows_count += len(rows_to_delete)\n",
    "        \n",
    "        for row_num in reversed(rows_to_delete):\n",
    "            matrix = np.delete(matrix, row_num, 0)\n",
    "    if print_message:\n",
    "        print(\"Работа метода завершена, удалено {0} строк\".format(deleted_rows_count))\n",
    "    return (deleted_rows_count, matrix)\n",
    "\n",
    "\n",
    "# linprog\n",
    "def solve(game: np.ndarray):\n",
    "    print(\"(индексы начинаются с 0)\")\n",
    "    # т.к. использовать linprog нельзя, найдем максимин и минимакс \"в лоб\"\n",
    "\n",
    "    # Найдем максимин\n",
    "    min_column_numbers = [np.where(row==min(row))[0][0]  for row in game]\n",
    "    max_value = -1000000\n",
    "    maxmin_row_number = 0\n",
    "    maxmin_column_number = 0\n",
    "    for row_number, column_number in zip(range(game.shape[0]), min_column_numbers):\n",
    "            if game[row_number][column_number] > max_value:\n",
    "                max_value = game[row_number][column_number]\n",
    "                maxmin_row_number = row_number\n",
    "                maxmin_column_number = column_number\n",
    "    print(\"Оптимальная стратегия игрока 1: i = {0}\".format(maxmin_row_number))\n",
    "\n",
    "    # Найдем минимакс\n",
    "    max_row_numbers = [np.where(row==max(row))[0][0]  for row in game.T]\n",
    "    min_value = 1000000000\n",
    "    minmax_column_number = 0\n",
    "    minmax_row_number = 0\n",
    "    for row_number, column_number in zip(max_row_numbers, range(game.shape[1])):\n",
    "        if game[row_number][column_number] < min_value:\n",
    "            min_value = game[row_number][column_number]\n",
    "            minmax_column_number = column_number\n",
    "            minmax_row_number = row_number\n",
    "    print(\"Оптимальная стратегия игрока 2: j = {0}\".format(minmax_column_number))\n",
    "\n",
    "    # Проверяем, найдена ли седловая точка\n",
    "    if minmax_column_number == maxmin_column_number and maxmin_row_number == minmax_row_number:\n",
    "        print(\"Нижние и верхние цены совпали, найдена седловая точка\")\n",
    "        print(\"i = {0}\".format(maxmin_row_number))\n",
    "        print(\"j = {0}\".format(minmax_column_number))\n",
    "        print(\"Значение седловой точки: {0}\".format(game[maxmin_row_number][minmax_column_number]))\n",
    "        \n",
    "# Графический метод\n",
    "# Получить точку пересечения по двум стратегиям\n",
    "# G - матрица игры\n",
    "# i, j - индексы столбца, соотвествующие стратегии Игрока 2\n",
    "def get_cross_point(G: np.ndarray, i: int, j: int):\n",
    "    # Если прямые параллельны\n",
    "    if (G[1][i] - G[0][i]) / (G[1][j] - G[0][j]) == 1:\n",
    "        # Если они совпадают, вернем первую точку прямой\n",
    "        if G[0][i] == G[1][i]:\n",
    "            return 0\n",
    "        else:\n",
    "            return None\n",
    "\n",
    "    x = (G[0][j] - G[0][i]) / (G[1][i] - G[0][i] - G[1][j] + G[0][j])\n",
    "    y = (G[1][i] - G[0][i]) * x + G[0][i]\n",
    "    return np.array([x, y])\n",
    "\n",
    "# Получить элементы вида [i, j, [x, y]], где [x, y] - кооридинаты точки пересечения i и j стратегии Игрока 2\n",
    "def get_all_cross_points(G: np.ndarray):\n",
    "    result = []\n",
    "    for i in range(G.shape[1]):\n",
    "        for j in range(G.shape[1]):\n",
    "            if i == j:\n",
    "                continue\n",
    "\n",
    "            # Т.к. пересения i,j то же самое, что пересечение j,i\n",
    "            is_point_already_added = False\n",
    "            for item in result:\n",
    "                if item[0] == j and item[1] == i:\n",
    "                    is_point_already_added = True\n",
    "                    break\n",
    "            if is_point_already_added:\n",
    "                continue\n",
    "\n",
    "            point = get_cross_point(G, i, j)\n",
    "            \n",
    "            if point is None:\n",
    "                continue\n",
    "            \n",
    "            [x, y] = point\n",
    "\n",
    "            # Нам интересны только те точки пересечения, которые находятся на отрезке [0; 1]\n",
    "            if x >= 0 and x <= 1:\n",
    "                result.append([i, j, [x, y]])\n",
    "    # Соритируем точки пересечения по x\n",
    "    return sorted(result, key = lambda item: item[2][0])\n",
    "\n",
    "def get_optimal_first_player_strategy(G):\n",
    "    filtered_points = []\n",
    "    previous_point = 0\n",
    "    \n",
    "    # Для каждого отрезка между двумя точками пересчениями\n",
    "    for [i, j, [x, y]] in get_all_cross_points(G):\n",
    "        # Выбираем его середину\n",
    "        middle = previous_point + (x - previous_point) / 2\n",
    "        \n",
    "        # Находим прямую, которая находится ниже всех для этого отрезка\n",
    "        min_i = 0\n",
    "        min_value = 2**15\n",
    "        for k in range(G.shape[1]):\n",
    "            current_value = (G[1][k] - G[0][k]) * middle + G[0][k]\n",
    "            if current_value < min_value:\n",
    "                min_i = k\n",
    "                min_value = current_value\n",
    "\n",
    "        # Если точка пересчения принадлежит найденной прямой, запоминаем точку пересечния\n",
    "        if min_i == i or min_i == j:\n",
    "            filtered_points.append([i, j, [x, y]])\n",
    "        previous_point = x\n",
    "    return sorted(filtered_points, key = lambda item: item[2][1], reverse=True)[0]\n",
    "\n",
    "def draw_game(G):\n",
    "    plt.plot([-0.1, 1.1],[0, 0],'b')\n",
    "    plt.plot([0,0],[0,10],'b')\n",
    "    plt.plot([1,1],[0,10],'b')\n",
    "\n",
    "    for item in get_all_cross_points(G):\n",
    "        plt.plot(item[2][0], item[2][1], 'g*')\n",
    "    \n",
    "    [i, j, [x, y]] = get_optimal_first_player_strategy(G)\n",
    "    plt.plot(x, y, 'r*')\n",
    "\n",
    "    for k in range(len(G[0])):\n",
    "        plt.plot([0],G[0][k],'g*')\n",
    "        plt.plot([1],G[1][k],'g*')\n",
    "        line_color = 'r' if i == k or j == k else 'g'\n",
    "        plt.plot([0,1],[G[0][k],G[1][k]], line_color)\n",
    "\n",
    "    plt.grid(True)\n",
    "    plt.show()\n",
    "    return [i, j, [x, y]]"
   ]
  },
  {
   "cell_type": "markdown",
   "id": "049530a7",
   "metadata": {},
   "source": [
    "### Рассмотрим XA"
   ]
  },
  {
   "cell_type": "code",
   "execution_count": 2,
   "id": "3d944408",
   "metadata": {},
   "outputs": [],
   "source": [
    "xa = np.array([[118839, 238647, 36729],\n",
    "               [180034, 180034, 180034],\n",
    "               [225019, 225019, 142909]])"
   ]
  },
  {
   "cell_type": "markdown",
   "id": "3bbf5d91",
   "metadata": {},
   "source": [
    "#### Метод СДС"
   ]
  },
  {
   "cell_type": "code",
   "execution_count": 3,
   "id": "95d8221b",
   "metadata": {},
   "outputs": [
    {
     "name": "stdout",
     "output_type": "stream",
     "text": [
      "Работа метода завершена, удалено 0 строк\n"
     ]
    }
   ],
   "source": [
    "_, cleared_matrix = dominated_strategies_excluding(xa)"
   ]
  },
  {
   "cell_type": "markdown",
   "id": "764c3f15",
   "metadata": {},
   "source": [
    "Как мы видим, в нашей матрице нет доминируемых стратегий, метод СДС в нашем случае не применим."
   ]
  },
  {
   "cell_type": "markdown",
   "id": "daf5bc4a",
   "metadata": {},
   "source": [
    "#### Метод linprog"
   ]
  },
  {
   "cell_type": "code",
   "execution_count": 4,
   "id": "cbfafacb",
   "metadata": {},
   "outputs": [
    {
     "name": "stdout",
     "output_type": "stream",
     "text": [
      "(индексы начинаются с 0)\n",
      "Оптимальная стратегия игрока 1: i = 1\n",
      "Оптимальная стратегия игрока 2: j = 2\n"
     ]
    }
   ],
   "source": [
    "solve(xa)"
   ]
  },
  {
   "cell_type": "markdown",
   "id": "bdc2ee3d",
   "metadata": {},
   "source": [
    "#### Графический метод"
   ]
  },
  {
   "cell_type": "code",
   "execution_count": 5,
   "id": "935b44b1",
   "metadata": {},
   "outputs": [
    {
     "data": {
      "image/png": "[encoded data removed]",
      "text/plain": [
       "<Figure size 432x288 with 1 Axes>"
      ]
     },
     "metadata": {
      "needs_background": "light"
     },
     "output_type": "display_data"
    }
   ],
   "source": [
    "[i, j, [x, y]] = draw_game(xa)"
   ]
  },
  {
   "cell_type": "code",
   "execution_count": 6,
   "id": "e9a11f26",
   "metadata": {},
   "outputs": [
    {
     "name": "stdout",
     "output_type": "stream",
     "text": [
      "Оптимальными стратегиями Игрока 1 являются: 0 и 1.\n",
      "С вероятностью = 1.00000.\n",
      "Цена игры 180034.00000.\n"
     ]
    }
   ],
   "source": [
    "print(\"Оптимальными стратегиями Игрока 1 являются: {0} и {1}.\\nС вероятностью = {2:.5f}.\\nЦена игры {3:.5f}.\".format(i, j, x, y))"
   ]
  },
  {
   "cell_type": "markdown",
   "id": "917a05be",
   "metadata": {},
   "source": [
    "Можно заметить, что оба метода нашли одну и ту же оптимальную стратегию - стартегию 1 (индексы начинаются с 0)."
   ]
  },
  {
   "cell_type": "markdown",
   "id": "45219bb4",
   "metadata": {},
   "source": [
    "### Рассмотрим XB"
   ]
  },
  {
   "cell_type": "code",
   "execution_count": 7,
   "id": "aad3a524",
   "metadata": {},
   "outputs": [],
   "source": [
    "xb = np.array([[118839, 238647],\n",
    "               [180034, 180034],\n",
    "               [225019, 225019]])"
   ]
  },
  {
   "cell_type": "code",
   "execution_count": null,
   "id": "9f7b4c7e",
   "metadata": {},
   "outputs": [],
   "source": [
    "#### Метод СДС"
   ]
  }
 ],
 "metadata": {
  "kernelspec": {
   "display_name": "Python 3 (ipykernel)",
   "language": "python",
   "name": "python3"
  },
  "language_info": {
   "codemirror_mode": {
    "name": "ipython",
    "version": 3
   },
   "file_extension": ".py",
   "mimetype": "text/x-python",
   "name": "python",
   "nbconvert_exporter": "python",
   "pygments_lexer": "ipython3",
   "version": "3.7.9"
  }
 },
 "nbformat": 4,
 "nbformat_minor": 5
}
