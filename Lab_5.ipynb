{
 "cells": [
  {
   "cell_type": "markdown",
   "id": "e9added2",
   "metadata": {},
   "source": [
    "# Курсовая работа по теории игр"
   ]
  },
  {
   "cell_type": "markdown",
   "id": "34708c32",
   "metadata": {},
   "source": [
    "**Выполнил**: Решетников Егор Алексеевич (ПМ-41) (reshetnikov.e.a@mail.ru)\n",
    "\n",
    "**Преподаватель**: Гурьянов М.А., кафедра ВМ-1\n",
    "\n",
    "\n",
    "Весенний семестр, 2022 год\n",
    "\n",
    "МИЭТ, Зеленоград"
   ]
  },
  {
   "cell_type": "markdown",
   "id": "208dc08e",
   "metadata": {},
   "source": [
    "## 1. Выбор области исследования и перечня игроков"
   ]
  },
  {
   "cell_type": "markdown",
   "id": "5429f3c8",
   "metadata": {},
   "source": [
    "В качестве игрока **X** будет выступать небольшая кофейня **\"Латтерия\"** за МКАДом, в которой варится три вида кофе:\n",
    " * **Капучино** по цене в 194 рубля с себестоимостью в 77 рублей (доход 117)\n",
    " * **Латте** по цене в 216 рублей с себестоимостью 97 рублей (доход 119)\n",
    " * **Американо** по цене в 145 рубля с себестоимостью в 39 рублей (доход 106)"
   ]
  },
  {
   "cell_type": "markdown",
   "id": "e914725f",
   "metadata": {},
   "source": [
    "В таком случае функция прибыли принимает вид:\n",
    "$$\n",
    "П = К * 117 + Л * 119 + А * 106\n",
    "$$\n",
    "Где **К** - количество чашек капучино, которое может сварить кофейня за месяц (соответственно **Л** - латте, **А** - американо)"
   ]
  },
  {
   "cell_type": "markdown",
   "id": "98b62b0f",
   "metadata": {},
   "source": [
    "Сейчас наша кофейня **X** располгает ресурсами:\n",
    " * Капучино - 1 280 чашек в месяц\n",
    " * Латте - 1 150 чашек в месяц\n",
    " * Американо - 770 чашек в месяц\n",
    "\n",
    "Таким образом, максмиальная прибыль, которую может получить кофейня за месяц:\n",
    "$$$$\n",
    "П_M = 1280 * 117 + 1150 * 119 + 770 * 106 = 368 230 рублей\n",
    "$$$$"
   ]
  },
  {
   "cell_type": "markdown",
   "id": "f25a234e",
   "metadata": {},
   "source": [
    "**Перечень игроков**\n",
    " * **A** - **\"Кофе с собой\"**\n",
    " > * Капучино - 900 чашек в месяц\n",
    " > * Латте - 1 200 чашек в месяц\n",
    " > * Американо - 1 100 чашек в месяц\n",
    " \n",
    "`A = [900 1200 1100]` \n",
    " \n",
    " * **B** - **\"Кофеварим\"**\n",
    " > * Капучино - 880 чашек в месяц\n",
    " > * Латте - 745 чашек в месяц\n",
    " > * Американо - 1 500 чашек в месяц \n",
    " \n",
    "`B = [880 745 1500]`\n",
    " \n",
    " * **C** - **\"Hygge \"**\n",
    " > * Капучино - 1000 чашек в месяц\n",
    " > * Латте - 980 чашек в месяц\n",
    " > * Американо - 890 чашек в месяц \n",
    " \n",
    "`C = [1000 980 890]`\n",
    "\n",
    "Цены на все виды кофе и их себестоимость считаем такими же, как для игрока **X**.\n",
    "\n",
    "Количество кофе, которое люди готовы покупать в месяц:\n",
    " * Капучино - 1524\n",
    " * Латте - 1400\n",
    " * Американо - 1500"
   ]
  },
  {
   "cell_type": "markdown",
   "id": "d99d8b62",
   "metadata": {},
   "source": [
    "## 2. Список допустимых стратегий"
   ]
  },
  {
   "cell_type": "markdown",
   "id": "6849a59a",
   "metadata": {},
   "source": [
    "Необходимо сбалансировать количество чашек кофе таким образом, чтобы продажи за месяц были не более чем на 400 000 рублей и при этом прибыль была максимальна."
   ]
  },
  {
   "cell_type": "markdown",
   "id": "730ed80a",
   "metadata": {},
   "source": [
    "#### Допустимые стратегии игрока **X** "
   ]
  },
  {
   "cell_type": "markdown",
   "id": "265d9899",
   "metadata": {},
   "source": [
    " * $X_1$ - от текущего количества: продавать 80% капучино,  60% латте, 45% американо.\n",
    " >* В таком случае кофейня продаст кофе на 397 938 рублей\n",
    " \n",
    " * $X_2$ - от текущего количества: продавать 50% капучино,  50% латте, 45% американо.\n",
    " >* В таком случае кофейня продаст кофе на 298 602 рубля\n",
    " \n",
    " * $X_3$ - от текущего количества: продавать 60% капучино,  60% латте, 65% американо.\n",
    " >* В таком случае кофейня продаст кофе на 370 604 рубля"
   ]
  },
  {
   "cell_type": "markdown",
   "id": "66b0de8e",
   "metadata": {},
   "source": [
    "#### Допустимые стратегии игрока **A**\n",
    " * $A_1$ - от текущего количества: продавать 70% капучино,  40% латте, 75% американо.\n",
    " >* В таком случае кофейня продаст кофе на 297 675 рублей\n",
    " \n",
    " * $A_2$ - от текущего количества: продавать 50% капучино,  50% латте, 45% американо.\n",
    " >* В таком случае кофейня продаст кофе на 288 675 рублей\n",
    " \n",
    " * $A_3$ - от текущего количества: продавать 60% капучино,  60% латте, 65% американо.\n",
    " >* В таком случае кофейня продаст кофе на 363 955 рублей"
   ]
  },
  {
   "cell_type": "markdown",
   "id": "b40fec58",
   "metadata": {},
   "source": [
    "#### Допустимые стратегии игрока **B**\n",
    "\n",
    "* $B_1$ - от текущего количества: продавать 70% капучино,  50% латте, 55% американо.\n",
    " >* В таком случае кофейня продаст кофе на 212 339 рублей\n",
    " \n",
    "* $B_2$ - от текущего количества: продавать 50% капучино,  80% латте, 30% американо.\n",
    " >* В таком случае кофейня продаст кофе на 279 346 рублей\n",
    " \n",
    "* $B_3$ - от текущего количества: продавать 30% капучино,  30% латте, 75% американо.\n",
    " >* В таком случае кофейня продаст кофе на 262 617 рублей"
   ]
  },
  {
   "cell_type": "markdown",
   "id": "20d80e51",
   "metadata": {},
   "source": [
    "#### Допустимые стратегии игрока **C**\n",
    "\n",
    "* $C_1$ - от текущего количества: продавать 50% капучино,  80% латте, 25% американо.\n",
    " >* В таком случае кофейня продаст кофе на 298 606 рублей\n",
    " \n",
    "* $C_2$ - от текущего количества: продавать 40% капучино,  40% латте, 40% американо.\n",
    " >* В таком случае кофейня продаст кофе на 288 675 рублей\n",
    " \n",
    "* $C_3$ - от текущего количества: продавать 60% капучино,  60% латте, 75% американо.\n",
    " >* В таком случае кофейня продаст кофе на 340 195 рублей"
   ]
  },
  {
   "cell_type": "markdown",
   "id": "72ffb742",
   "metadata": {},
   "source": [
    "#### Допустимые стратегии в игре против всех"
   ]
  },
  {
   "cell_type": "markdown",
   "id": "314918ee",
   "metadata": {},
   "source": [
    " * $A_1 B_1 C_1$ - сократить продажи всех видов кофе на 30%\n",
    " * $A_2 B_2 C_2$ - сократить продажи всех видов кофе на 20%\n",
    " * $A_3 B_3 C_3$ - сократить продажи всех видов кофе на 40%"
   ]
  },
  {
   "cell_type": "markdown",
   "id": "ef42e602",
   "metadata": {},
   "source": [
    "## 3. Фукнция выигрыша и платежные матрицы"
   ]
  },
  {
   "cell_type": "markdown",
   "id": "c610b8bf",
   "metadata": {},
   "source": [
    "#### Функция выигрыша\n",
    "\n",
    "Функция выигрыша для k-ого игрока в нашем случае принимает вид:\n",
    "$$\n",
    "F_k = \\begin{cases} \n",
    "    \\sum p_i  n_i,если    \\sum_k n_i <= V_i  \\\\\n",
    "    0 - иначе\n",
    "    \\end{cases}\n",
    "$$\n",
    "\n",
    "где\n",
    " * k = 1,..., 4 - номер игрока (X: k = 1, A: k = 2, B: k = 3, C: k = 4)\n",
    " * i = 1, ..., 3 - номер вида кофе (капучино = 1, латте = 2, американо = 3)\n",
    " * n_i - кол-во проданных чашек кофе вида i\n",
    " * p_i - прибыль от одной чашки кофе вида i\n"
   ]
  },
  {
   "cell_type": "markdown",
   "id": "0d18317d",
   "metadata": {},
   "source": [
    "#### Платежные матрицы"
   ]
  },
  {
   "cell_type": "markdown",
   "id": "661fa7aa",
   "metadata": {},
   "source": [
    "##### XA\n",
    "$$\n",
    "G_{XA} = \n",
    "\\left(\n",
    "\\begin{matrix}\n",
    "   118839 & 238647 & 36729 \\\\\n",
    "   180034 & 180034 & 180034  \\\\\n",
    "   225019 & 225019 & 142909  \n",
    "\\end{matrix}\n",
    "\\right)\n",
    "$$\n"
   ]
  },
  {
   "cell_type": "markdown",
   "id": "998e57d7",
   "metadata": {},
   "source": [
    "##### XB\n",
    "Исключим стратегию $B_3$ и получим матрицу 3 на 2:"
   ]
  },
  {
   "cell_type": "markdown",
   "id": "af8b7d2c",
   "metadata": {},
   "source": [
    "$$\n",
    "G_{XB} = \n",
    "\\left(\n",
    "\\begin{matrix}\n",
    "   118839 & 238647 \\\\\n",
    "   180034 & 180034  \\\\\n",
    "   225019 & 225019  \\\\\n",
    "\\end{matrix}\n",
    "\\right)\n",
    "$$"
   ]
  },
  {
   "cell_type": "code",
   "execution_count": 23,
   "id": "c4cfd03c",
   "metadata": {},
   "outputs": [
    {
     "name": "stdout",
     "output_type": "stream",
     "text": [
      "i = 0, j = 0, f = 118839.0\n",
      "i = 0, j = 1, f = 238647.0\n",
      "i = 1, j = 0, f = 180034.0\n",
      "i = 1, j = 1, f = 180034.0\n",
      "i = 2, j = 0, f = 225019.0\n",
      "i = 2, j = 1, f = 225019.0\n"
     ]
    }
   ],
   "source": [
    "x = [1280, 1150, 770]\n",
    "x3 = [117, 119, 106]\n",
    "a = [880, 745, 1500]\n",
    "v = [1524, 1400, 1500]\n",
    "\n",
    "x1 = [[0.8, 0.6, 0.45], [0.5, 0.5, 0.45], [0.6, 0.6, 0.65]]\n",
    "a1 = [[0.7, 0.5, 0.55], [0.5, 0.8, 0.3], [0.3, 0.3, 0.75]]\n",
    "\n",
    "for i in range(3):\n",
    "    for j in range(2):\n",
    "        f = 0\n",
    "        for k in range(3):\n",
    "            if x[k] * x1[i][k] + a1[j][k] * a[k] > v[k]:\n",
    "                pass\n",
    "            else:\n",
    "                f += x1[i][k] * x[k] * x3[k]\n",
    "        print(\"i = {0}, j = {1}, f = {2}\".format(i ,j, f))"
   ]
  },
  {
   "cell_type": "code",
   "execution_count": null,
   "id": "dae0736b",
   "metadata": {},
   "outputs": [],
   "source": []
  },
  {
   "cell_type": "code",
   "execution_count": null,
   "id": "1ce1ae20",
   "metadata": {},
   "outputs": [],
   "source": []
  },
  {
   "cell_type": "code",
   "execution_count": null,
   "id": "ea0ddbb9",
   "metadata": {},
   "outputs": [],
   "source": []
  },
  {
   "cell_type": "code",
   "execution_count": null,
   "id": "1365588b",
   "metadata": {},
   "outputs": [],
   "source": []
  },
  {
   "cell_type": "code",
   "execution_count": null,
   "id": "8018c6cb",
   "metadata": {},
   "outputs": [],
   "source": []
  },
  {
   "cell_type": "code",
   "execution_count": null,
   "id": "a530e0f3",
   "metadata": {},
   "outputs": [],
   "source": []
  },
  {
   "cell_type": "code",
   "execution_count": null,
   "id": "4faf13b2",
   "metadata": {},
   "outputs": [],
   "source": []
  },
  {
   "cell_type": "code",
   "execution_count": null,
   "id": "ad63a8a9",
   "metadata": {},
   "outputs": [],
   "source": []
  },
  {
   "cell_type": "code",
   "execution_count": null,
   "id": "2ddc4990",
   "metadata": {},
   "outputs": [],
   "source": []
  },
  {
   "cell_type": "code",
   "execution_count": null,
   "id": "c4a942bd",
   "metadata": {},
   "outputs": [],
   "source": []
  },
  {
   "cell_type": "code",
   "execution_count": null,
   "id": "656fcbbb",
   "metadata": {},
   "outputs": [],
   "source": []
  },
  {
   "cell_type": "code",
   "execution_count": null,
   "id": "a5ef9f1a",
   "metadata": {},
   "outputs": [],
   "source": []
  },
  {
   "cell_type": "code",
   "execution_count": null,
   "id": "90b4604b",
   "metadata": {},
   "outputs": [],
   "source": []
  },
  {
   "cell_type": "code",
   "execution_count": null,
   "id": "18c6d581",
   "metadata": {},
   "outputs": [],
   "source": []
  },
  {
   "cell_type": "code",
   "execution_count": null,
   "id": "10c30a66",
   "metadata": {},
   "outputs": [],
   "source": []
  },
  {
   "cell_type": "code",
   "execution_count": null,
   "id": "e5745bad",
   "metadata": {},
   "outputs": [],
   "source": []
  },
  {
   "cell_type": "code",
   "execution_count": null,
   "id": "21afb499",
   "metadata": {},
   "outputs": [],
   "source": []
  },
  {
   "cell_type": "code",
   "execution_count": null,
   "id": "0fc34e41",
   "metadata": {},
   "outputs": [],
   "source": []
  },
  {
   "cell_type": "code",
   "execution_count": null,
   "id": "9acbe350",
   "metadata": {},
   "outputs": [],
   "source": []
  },
  {
   "cell_type": "code",
   "execution_count": null,
   "id": "b78cafb2",
   "metadata": {},
   "outputs": [],
   "source": []
  },
  {
   "cell_type": "code",
   "execution_count": null,
   "id": "2053ad66",
   "metadata": {},
   "outputs": [],
   "source": []
  },
  {
   "cell_type": "code",
   "execution_count": null,
   "id": "c6ff3d3f",
   "metadata": {},
   "outputs": [],
   "source": []
  },
  {
   "cell_type": "code",
   "execution_count": null,
   "id": "14561c7e",
   "metadata": {},
   "outputs": [],
   "source": []
  },
  {
   "cell_type": "code",
   "execution_count": null,
   "id": "68daf647",
   "metadata": {},
   "outputs": [],
   "source": []
  },
  {
   "cell_type": "code",
   "execution_count": null,
   "id": "fe95ab54",
   "metadata": {},
   "outputs": [],
   "source": []
  },
  {
   "cell_type": "code",
   "execution_count": null,
   "id": "54100f24",
   "metadata": {},
   "outputs": [],
   "source": []
  },
  {
   "cell_type": "code",
   "execution_count": null,
   "id": "14aea737",
   "metadata": {},
   "outputs": [],
   "source": []
  }
 ],
 "metadata": {
  "kernelspec": {
   "display_name": "Python 3 (ipykernel)",
   "language": "python",
   "name": "python3"
  },
  "language_info": {
   "codemirror_mode": {
    "name": "ipython",
    "version": 3
   },
   "file_extension": ".py",
   "mimetype": "text/x-python",
   "name": "python",
   "nbconvert_exporter": "python",
   "pygments_lexer": "ipython3",
   "version": "3.7.9"
  }
 },
 "nbformat": 4,
 "nbformat_minor": 5
}
