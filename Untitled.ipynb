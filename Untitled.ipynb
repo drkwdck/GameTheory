{
 "cells": [
  {
   "cell_type": "markdown",
   "id": "e73faccc",
   "metadata": {},
   "source": [
    "\n",
    "### Отчет по исследованию матричных игр\n",
    "\n",
    "**Выполнил**: Решетников Егор Алексеевич (ПМ-41) (reshetnikov.e.a@mail.ru)\n",
    "\n",
    "**Преподаватель**: Гурьянов М.А., кафедра ВМ-1\n"
   ]
  },
  {
   "cell_type": "markdown",
   "id": "b0ca4ced",
   "metadata": {},
   "source": [
    "Весенний семестр, 2022 год"
   ]
  },
  {
   "cell_type": "markdown",
   "id": "2a6fe1ff",
   "metadata": {},
   "source": [
    "МИЭТ, Зеленоград"
   ]
  },
  {
   "cell_type": "markdown",
   "id": "e7d69a7c",
   "metadata": {},
   "source": [
    "## Задания\n",
    "1. Составить конспект называющийся \"Глава 1: Инструментарий\" где изложить методы поиска седловой точки, 6 шагов разбора игры и сопуствующие термины и определения которые необходимы для понимания вашего текста.\n",
    "2. Написать программу проверяющую произвольную платежную матрицу на наличие седловых точек. Должна в читаемом виде выводить ответ.\n",
    "3. Скопировать пример с linprog и поменять так, чтобы он искал решение не для игрока B, а для игрока А\n",
    "4. Выбрать **текстовую** игру и разобрать ее по 6 шагам (у студентов не должны повторяться игры)"
   ]
  },
  {
   "cell_type": "markdown",
   "id": "cc9e03e3",
   "metadata": {},
   "source": [
    "### Задание 1\n",
    "Составить конспект называющийся \"Глава 1: Инструментарий\" где изложить методы поиска седловой точки, 6 шагов разбора игры и"
   ]
  },
  {
   "cell_type": "markdown",
   "id": "422f332a",
   "metadata": {},
   "source": [
    "Матричные игры\n",
    "$$\n",
    "G = \n",
    "\\left(\n",
    "\\begin{matrix}\n",
    "  a_{1,1} & a_{1,2} & \\cdots & a_{1,n} \\\\\n",
    "  a_{2,1} & a_{2,2} & \\cdots & a_{2,n} \\\\\n",
    "  \\vdots  & \\vdots  & \\ddots & \\vdots  \\\\\n",
    "  a_{m,1} & a_{m,2} & \\cdots & a_{m,n} \n",
    "\\end{matrix}\n",
    "\\right)\n",
    "$$\n",
    "Стратегия игрока А:\n",
    "$$\n",
    "x = [x_1,x_2,\\cdots, x_m]\\\\\n",
    "\\sum x_i = 1\n",
    "$$\n",
    "Стратегия игрока B:\n",
    "$$\n",
    "y = [y_1,y_2,\\cdots, y_n]\\\\\n",
    "\\sum y_j = 1\n",
    "$$\n",
    "Математическое ожидание выигрыша:\n",
    "$$\n",
    "F = X \\cdot G \\cdot Y' = \\sum_{i,j}a_{ij}x_iy_j\n",
    "$$"
   ]
  },
  {
   "cell_type": "markdown",
   "id": "ca78312e",
   "metadata": {},
   "source": [
    "______________________\n",
    "#### Задача линейного программирования, решаемая linprog\n",
    "ЗЛП (задача линейного программирования) - сделать выигрыш $F$ максимальным.\n",
    "______________________"
   ]
  },
  {
   "cell_type": "markdown",
   "id": "63e90afe",
   "metadata": {},
   "source": [
    "##### Оптимальная стратегия. Метод минимакс и максимин.\n",
    "**Определение**. Для каждого игрока для каждой из стратегий можно посчитать минимальный выигрыш или максимальный проигрыш.\n",
    "\n",
    "Минимальный выигрыш для игрока $A$ при выборе стратегии $j$ - минимальный элемент в соответствующей строке\n",
    "$$\n",
    "\\alpha_j = \\min_i G[i,j]\n",
    "$$\n",
    "\n",
    "Игрок А всегда старается выбрать стратегию так чтобы его минимальный возможный выигрыш был максимальным. т.е. для него цена игры при худшем раскладе будет\n",
    "$$\n",
    "\\alpha = \\max_j \\min_i G[i,j]\n",
    "$$\n",
    "\n",
    "Это число называют **максимин** или **нижняя цена игры**\n",
    "\n",
    "Максимальный проигрыш для игрока $A$ при выборе стратегии $i$ - минимальный элемент в соответствующей строке\n",
    "\n",
    "$$\n",
    "\\beta_i = \\max_i G[i,j]\n",
    "$$\n",
    "\n",
    "Второй игрок старается сделать свой проигрыш в худшем для него раскладе как можно меньше. тогда он старается минимизировать потери :\n",
    "\n",
    "$$\n",
    "\\beta = \\min_j \\max_i G[i,j]\n",
    "$$\n",
    "\n",
    "Это число называют **минимакс** или **верхняя цена игры**\n",
    "\n"
   ]
  },
  {
   "cell_type": "markdown",
   "id": "8d6b83ac",
   "metadata": {},
   "source": [
    "##### Теорема\n",
    "Если **нижняя цена игры** и **верхняя цена игры** совпадают то говорят что в игре есть оптимальная стратегия для двух игроков - **седловая точка**"
   ]
  },
  {
   "cell_type": "markdown",
   "id": "622375b3",
   "metadata": {},
   "source": [
    "Алгоритм анализа матричной игры:\n",
    "\n",
    "* **Шаг 1**: Проанализировать текст игры и определить стратегии игроков (задать количество строк и количество столбцов)\n",
    "* **Шаг 2**: Для каждого хода каждого игрока выбрать и рассчитать функцию выигрыша. Для антогонистических игр убедиться что для обоих игроков функция означает одно и то же.\n",
    "* **Шаг 3**: Составить платежную матрицу игры\n",
    "* **Шаг 4**: Поставить ЗЛП (на лабах 1-3 будем делать этот шаг упрощенно)\n",
    "* **Шаг 5**: Упростить платежную матрицу методом СДС (начиная с лаб.4)\n",
    "* **Шаг 6А**: Решить в чистых стратегиях (если есть седловая точка)\n",
    "* **Шаг 6Б**: Решить в смешанных стратегиях (если нет седловой точки)"
   ]
  },
  {
   "cell_type": "markdown",
   "id": "b6c624ad",
   "metadata": {},
   "source": [
    "### Задание 2\n",
    "Написать программу проверяющую произвольную платежную матрицу на наличие седловых точек. Должна в читаемом виде выводить ответ."
   ]
  },
  {
   "cell_type": "markdown",
   "id": "62914f4b",
   "metadata": {},
   "source": [
    "Дана матричная игра с платёжной матрицей\n",
    "$$\n",
    "G = \n",
    "\\begin{matrix}\n",
    "\\left(\n",
    "\\begin{matrix}\n",
    "   3 & 9 & 2 & 1 \\\\\n",
    "   7 & 8 & 5 & 6 \\\\\n",
    "   4 & 7 & 3 & 5 \\\\\n",
    "   5 & 6 & 1 & 7 \\\\\n",
    "\\end{matrix}\n",
    "\\right)\n",
    "& \n",
    "\\begin{matrix}\n",
    "   1 \\\\\n",
    "   [5] \\\\\n",
    "   3 \\\\\n",
    "   1 \\\\\n",
    "\\end{matrix}\n",
    "\\\\\n",
    "\\begin{matrix}\n",
    "7 & 9 & [5] & 7\n",
    "\\end{matrix} & \n",
    "\\end{matrix}\n",
    "$$\n",
    "\n",
    "Как видно у матрицы есть вполне четкое оптимальное решение"
   ]
  },
  {
   "cell_type": "markdown",
   "id": "087f5673",
   "metadata": {},
   "source": [
    "**Задание для лабораторной**: Написать программу которая проверяет наличие оптимальной стратегии и выводит его. Не используем **linprog**"
   ]
  },
  {
   "cell_type": "code",
   "execution_count": 1,
   "id": "02d8f54f",
   "metadata": {},
   "outputs": [
    {
     "name": "stdout",
     "output_type": "stream",
     "text": [
      "(индексы начинаются с 0)\n",
      "Оптимальная стратегия игрока 1: i = 1\n",
      "Оптимальная стратегия игрока 2: j = 2\n",
      "Нижние и верхние цены совпали, найдена седловая точка\n",
      "i = 1\n",
      "j = 2\n",
      "Значение седловой точки: 5\n"
     ]
    }
   ],
   "source": [
    "## Код на Питоне\n",
    "\n",
    "import numpy as np\n",
    "\n",
    "# Функция проверки наличия оптимальной стратегии и его вывода для произвольной платежной матрицы\n",
    "def solve(game: np.ndarray):\n",
    "    print(\"(индексы начинаются с 0)\")\n",
    "    # т.к. использовать linprog нельзя, найдем максимин и минимакс \"в лоб\"\n",
    "\n",
    "    # Найдем максимин\n",
    "    min_column_numbers = [np.where(row==min(row))[0][0]  for row in game]\n",
    "    max_value = -1000000\n",
    "    maxmin_row_number = 0\n",
    "    maxmin_column_number = 0\n",
    "    for row_number, column_number in zip(range(game.shape[0]), min_column_numbers):\n",
    "            if game[row_number][column_number] > max_value:\n",
    "                max_value = game[row_number][column_number]\n",
    "                maxmin_row_number = row_number\n",
    "                maxmin_column_number = column_number\n",
    "    print(\"Оптимальная стратегия игрока 1: i = {0}\".format(maxmin_row_number))\n",
    "\n",
    "    # Найдем минимакс\n",
    "    max_row_numbers = [np.where(row==max(row))[0][0]  for row in game.T]\n",
    "    min_value = 1000000000\n",
    "    minmax_column_number = 0\n",
    "    minmax_row_number = 0\n",
    "    for row_number, column_number in zip(max_row_numbers, range(game.shape[1])):\n",
    "        if game[row_number][column_number] < min_value:\n",
    "            min_value = game[row_number][column_number]\n",
    "            minmax_column_number = column_number\n",
    "            minmax_row_number = row_number\n",
    "    print(\"Оптимальная стратегия игрока 2: j = {0}\".format(minmax_column_number))\n",
    "\n",
    "    # Проверяем, найдена ли седловая точка\n",
    "    if minmax_column_number == maxmin_column_number and maxmin_row_number == minmax_row_number:\n",
    "        print(\"Нижние и верхние цены совпали, найдена седловая точка\")\n",
    "        print(\"i = {0}\".format(maxmin_row_number))\n",
    "        print(\"j = {0}\".format(minmax_column_number))\n",
    "        print(\"Значение седловой точки: {0}\".format(game[maxmin_row_number][minmax_column_number]))\n",
    "\n",
    "# произвольная платежная матрица (из задания)\n",
    "game = np.array([[3, 9, 2, 1], [7, 8, 5, 6], [4, 7, 3, 5], [5, 6, 1, 7]])\n",
    "\n",
    "# Вызов функции:\n",
    "solve(game)"
   ]
  },
  {
   "cell_type": "markdown",
   "id": "ad0b23a1",
   "metadata": {},
   "source": [
    "### Задание 3\n",
    "Скопировать пример с linprog и поменять так, чтобы он искал решение не для игрока B, а для игрока А"
   ]
  },
  {
   "cell_type": "markdown",
   "id": "1e5b6f12",
   "metadata": {},
   "source": [
    "#### Linprog и решение задач оптимизации с ее использованием"
   ]
  },
  {
   "cell_type": "markdown",
   "id": "d5b2bd7f",
   "metadata": {},
   "source": [
    "$$\n",
    "G = \n",
    "\\begin{matrix}\n",
    "\\left(\n",
    "\\begin{matrix}\n",
    "   1 & 0 & 4 \\\\\n",
    "   5 & 3 & 8  \\\\\n",
    "   6 & 0 & 1  \n",
    "\\end{matrix}\n",
    "\\right)\n",
    "& \n",
    "\\begin{matrix}\n",
    "   0 \\\\\n",
    "   [3] \\\\\n",
    "   0 \\\\\n",
    "\\end{matrix}\n",
    "\\\\\n",
    "\\begin{matrix}\n",
    "6 & [3] & 8 \n",
    "\\end{matrix} & \n",
    "\\end{matrix}\n",
    "$$"
   ]
  },
  {
   "cell_type": "code",
   "execution_count": 2,
   "id": "83d55e5f",
   "metadata": {},
   "outputs": [
    {
     "name": "stdout",
     "output_type": "stream",
     "text": [
      "5\n",
      "[0. 0. 1. 0.]\n",
      "5\n",
      "[0. 1. 0. 0.]\n"
     ]
    }
   ],
   "source": [
    "## Код на Питоне\n",
    "import numpy as np\n",
    "from scipy.optimize import linprog\n",
    "\n",
    "# Для игрока B\n",
    "f =  [-1, -1, -1, -1]\n",
    "Game = [[3, 9, 2, 1],\n",
    "    [7, 8, 5, 6],\n",
    "    [4, 7, 3, 5],\n",
    "    [5, 6, 1, 7]]\n",
    "\n",
    "b = [1, 1, 1, 1]\n",
    "res = linprog(f,Game,b)\n",
    "cost = -1/res.fun\n",
    "strategy = res.x * cost\n",
    "strategy = np.round(np.array(strategy), 1)\n",
    "print (round(cost))\n",
    "print (strategy)\n",
    "\n",
    "# Для игрока А\n",
    "f =  [1, 1, 1, 1]\n",
    "\n",
    "Game = np.array([[3, 9, 2, 1],\n",
    "    [7, 8, 5, 6],\n",
    "    [4, 7, 3, 5],\n",
    "    [5, 6, 1, 7]])\n",
    "\n",
    "Game = (-1) * Game.T\n",
    "b = [-1, -1, -1, -1]\n",
    "res = linprog(f,Game,b)\n",
    "cost = 1/res.fun\n",
    "strategy = res.x * cost\n",
    "\n",
    "strategy = np.round(np.array(strategy),1)\n",
    "print (round(cost))\n",
    "print (strategy)"
   ]
  },
  {
   "cell_type": "code",
   "execution_count": 3,
   "id": "d0187389",
   "metadata": {},
   "outputs": [
    {
     "name": "stdout",
     "output_type": "stream",
     "text": [
      "(индексы начинаются с 0)\n",
      "Оптимальная стратегия игрока 1: i = 1\n",
      "Оптимальная стратегия игрока 2: j = 1\n",
      "Нижние и верхние цены совпали, найдена седловая точка\n",
      "i = 1\n",
      "j = 1\n",
      "Значение седловой точки: 0.7\n"
     ]
    }
   ],
   "source": [
    "## Код на Питоне\n",
    "import numpy as np\n",
    "from scipy.optimize import linprog\n",
    "\n",
    "f =  [1, 1, 1, 1]\n",
    "Game = [[0.5, 0.6, 0.8],\n",
    "    [0.9, 0.7, 0.8],\n",
    "    [0.7, 0.5, 0.8]]\n",
    "\n",
    "solve(np.array(Game))"
   ]
  },
  {
   "cell_type": "markdown",
   "id": "85dfed33",
   "metadata": {},
   "source": [
    "### Задание 4\n",
    "Выбрать текстовую игру и разобрать ее по 6 шагам (у студентов не должны повторяться игры)"
   ]
  },
  {
   "cell_type": "markdown",
   "id": "7bdaf147",
   "metadata": {},
   "source": [
    "**«вооружение и самолет»**.\n",
    "\n",
    "Первый игрок выбирает один из трех типов вооружения i = 1, 2, 3, другой – один из трех видов самолетов\n",
    "j = 1, 2, 3. Платежная матрица задана таблицей:\n",
    "\n",
    "$$\n",
    "\\begin{matrix}\n",
    "\\left(\n",
    "\\begin{matrix}\n",
    "   0.5 & 0.6 & 0.8\\\\\n",
    "   0.9 & 0.7 & 0.8\\\\\n",
    "   0.7 & 0.5 & 0.6\\\\\n",
    "\\end{matrix}\n",
    "\\right)\n",
    "& \n",
    "\\begin{matrix}\n",
    "   1 \\\\\n",
    "   2 \\\\\n",
    "   3 \\\\\n",
    "\\end{matrix}\n",
    "\\\\\n",
    "\\begin{matrix}\n",
    "1 & 2 & 3\n",
    "\\end{matrix} & \n",
    "\\end{matrix}\n",
    "$$\n",
    "\n",
    "Элементами $a_{ij}$ платежной матрицы являются вероятности поражения\n",
    "самолета вида j вооружением типа i. Целью первого игрока является поражение самолета, второго – прорыв обороны противника. "
   ]
  },
  {
   "cell_type": "markdown",
   "id": "dab0188e",
   "metadata": {},
   "source": [
    "#### Алгоритм анализа матричной игры\n",
    "* **Шаг 1**: Проанализировать текст игры и определить стратегии игроков (задать количество строк и количество столбцов)\n",
    "\n",
    "Старетгия каждого одного из игроков заключается в выборе одного из самолетов, а второго - в выборе одного из трех типов вооружения. Таким образом, в нашей платёжной матрице будет 3 строки и 3 столбца.\n",
    "\n",
    "* **Шаг 2**: Для каждого хода каждого игрока выбрать и рассчитать функцию выигрыша. Для антогонистических игр убедиться что для обоих игроков функция означает одно и то же\n",
    "\n",
    "Функция выигрыша для первого игрока имеет вид:\n",
    "\n",
    "$$\n",
    "F_{1} =\n",
    "\\begin{cases}\n",
    "   0.5 & i = 1, j = 1 \\\\\n",
    "   0.6 & i = 1, j = 2 \\\\\n",
    "   0.8 & i = 1, j = 3 \\\\\n",
    "   0.9 & i = 2, j = 1 \\\\\n",
    "   0.7 & i = 2, j = 2 \\\\\n",
    "   0.8 & i = 2, j = 3 \\\\\n",
    "   0.7 & i = 3, j = 1\\\\\n",
    "   0.5 & i = 3, j = 2\\\\\n",
    "   0.6 & i = 3, j = 3\\\\\n",
    "\\end{cases}\n",
    "$$\n",
    "\n",
    "Так как выигрыш первого игрока равен проигрышу второго и мы имеем дело с вероятностями, то: $$ F_{2}(x,y)=1 - F_{1}(x,y)$$\n",
    "\n",
    "* **Шаг 3**: Составить платежную матрицу игры\n",
    "Платежная матрицы игры имеет вид:\n",
    "$$\n",
    "G = \\begin{matrix}\n",
    "\\left(\n",
    "\\begin{matrix}\n",
    "   0.5 & 0.6 & 0.8\\\\\n",
    "   0.9 & 0.7 & 0.8\\\\\n",
    "   0.7 & 0.5 & 0.6\\\\\n",
    "\\end{matrix}\n",
    "\\right)\n",
    "& \n",
    "\\begin{matrix}\n",
    "   1 \\\\\n",
    "   2 \\\\\n",
    "   3 \\\\\n",
    "\\end{matrix}\n",
    "\\\\\n",
    "\\begin{matrix}\n",
    "1 & 2 & 3\n",
    "\\end{matrix} & \n",
    "\\end{matrix}\n",
    "$$\n",
    "\n",
    "* **Шаг 4**: Поставить ЗЛП (на лабах 1-3 будем делать этот шаг упрощенно)\n",
    "\n",
    "Стратегия игрока А:\n",
    "$$\n",
    "x = [x_1,x_2,\\cdots, x_m]\\\\\n",
    "\\sum x_i = 1\n",
    "$$\n",
    "Стратегия игрока B:\n",
    "$$\n",
    "y = [y_1,y_2,\\cdots, y_n]\\\\\n",
    "\\sum y_j = 1\n",
    "$$\n",
    "Математическое ожидание выигрыша:\n",
    "\n",
    "$$\n",
    "F = X * G * Y' = \\sum_{i,j} a_{ij} x_{i} y_{j}\n",
    "$$\n",
    "\n",
    "ЗЛП (задача линейного программирования) - сделать выигрыш  𝐹  максимальным.\n",
    "\n",
    "* **Шаг 5**: Упростить платежную матрицу методом СДС (начиная с лаб.4)"
   ]
  },
  {
   "cell_type": "markdown",
   "id": "3cb5e1f6",
   "metadata": {},
   "source": [
    "* **Шаг 6А**: Решить в чистых стратегиях (если есть седловая точка)\n",
    "\n",
    "В нашем случае возможно решение в чистых стратегиях. Для этого используем функцию из задания 2, передав ей в качестве параметра нашу платежную матрицу:"
   ]
  },
  {
   "cell_type": "code",
   "execution_count": 4,
   "id": "c038d209",
   "metadata": {},
   "outputs": [
    {
     "name": "stdout",
     "output_type": "stream",
     "text": [
      "(индексы начинаются с 0)\n",
      "Оптимальная стратегия игрока 1: i = 1\n",
      "Оптимальная стратегия игрока 2: j = 1\n",
      "Нижние и верхние цены совпали, найдена седловая точка\n",
      "i = 1\n",
      "j = 1\n",
      "Значение седловой точки: 0.7\n"
     ]
    }
   ],
   "source": [
    "G = np.array([[0.5, 0.6, 0.8],\n",
    "              [0.9, 0.7, 0.8],\n",
    "              [0.7, 0.5, 0.6]])\n",
    "solve(G)"
   ]
  },
  {
   "cell_type": "markdown",
   "id": "7f48be0c",
   "metadata": {},
   "source": [
    "Следовательно, для обоих игроков целесообразным является использование чистых стратегий i = 1 для первого и j = 1 для второго (соотвесвует типу вооружения 2 и типу самолета 2, т.к. индексы выводятся начиная с 0). Отклонение любого из игроков от указанных стратегий может только уменьшить его выигрыш."
   ]
  },
  {
   "cell_type": "markdown",
   "id": "b8a25deb",
   "metadata": {},
   "source": [
    "\n",
    "### Отчет по исследованию матричных игр\n",
    "\n",
    "**Выполнил**: Решетников Егор Алексеевич (ПМ-41) (reshetnikov.e.a@mail.ru)\n",
    "\n",
    "**Преподаватель**: Гурьянов М.А., кафедра ВМ-1"
   ]
  },
  {
   "cell_type": "markdown",
   "id": "38ba3b9b",
   "metadata": {},
   "source": [
    "# Глава 2 Математическая модель и решение задач в частных случаях"
   ]
  },
  {
   "cell_type": "markdown",
   "id": "feef1ff2",
   "metadata": {},
   "source": [
    "## Теоретические сведения"
   ]
  },
  {
   "cell_type": "markdown",
   "id": "33c934d5",
   "metadata": {},
   "source": [
    "**Чистая стратегия** даёт полную определённость, каким образом игрок продолжит игру. В частности, она определяет результат для каждого возможного выбора, который игроку может придётся сделать. Пространством стратегий называют множество всех чистых стратегий, доступных данному игроку.\n",
    "\n",
    "**Смешанная стратегия** является указанием вероятности каждой чистой стратегии."
   ]
  },
  {
   "cell_type": "markdown",
   "id": "007ad3bd",
   "metadata": {},
   "source": [
    "**Утверждение 1**:\n",
    "Оптимальная стратегия игрока А в игре данного вида (2 x N) находится как самая высокая точка нижней границы всех линий страгий (на рисунке зеленые)\n",
    "$$\n",
    "A = [x, (1-x)]\n",
    "$$"
   ]
  },
  {
   "cell_type": "markdown",
   "id": "04a1dbee",
   "metadata": {},
   "source": [
    "Координата Y максимальной крайней точки обозначает цену игры"
   ]
  },
  {
   "cell_type": "markdown",
   "id": "cdc73b40",
   "metadata": {},
   "source": [
    "**Утверждение 2**: Две стратегии игрока B, образующие на пересечении точку оптимальной стратегии игрока А являются единственными полезными стратегиями игрока B. (тоесть это единственные стратегии которые будет использовать игрок B)."
   ]
  },
  {
   "cell_type": "markdown",
   "id": "089ff2d8",
   "metadata": {},
   "source": [
    "**Утверждение 3**:\n",
    "Оптимальнся стратегия игрока B ищется исходя из системы уравнений:\n",
    "\n",
    "$$\n",
    "\\begin{cases}\n",
    "b_i \\cdot (x,1-x) = V\\\\\n",
    "b_j \\cdot (x,1-x) = V\n",
    "\\end{cases}\n",
    "$$\n",
    "\n",
    "Или \n",
    "\n",
    "$$\n",
    "\\begin{cases}\n",
    "p \\cdot G(1,i) + (1-p) \\cdot G(1,j)  = V\\\\\n",
    "p \\cdot G(2,i) + (1-p) \\cdot G(2,j)  = V\\\\\n",
    "\\end{cases}\n",
    "$$"
   ]
  },
  {
   "cell_type": "markdown",
   "id": "edfd6add",
   "metadata": {},
   "source": [
    "## Задание 1"
   ]
  },
  {
   "cell_type": "markdown",
   "id": "a3662cd4",
   "metadata": {},
   "source": [
    "Написать функцию которая на вход принимает матрицу игры G и\n",
    "1. Рисует графическую интрепретацию игры\n",
    "2. Находит координаты точки оптимальной игры и вычисляет оптимальную стратегию игрока А и цену игры\n",
    "\n",
    "Способы решения игры графически:\n",
    "\n",
    "* Перебрать значения координаты X  с шагом $\\epsilon$ и для каждого значения выбрать значение игры как минимум из всех линейных функций в данной точке - **Численное решение**\n",
    "* Перебрать все пары стратегий игрока B, найти их точки пересечения и выбрать точку перечения А) максимальную и Б находящуюся под невыбранными линиями. Из точек удовлетворяющийх условию выбирается максимальная по координате Y - **Аналитическое решение**\n",
    "* Метод Симплекса: Составляется список вершин, образующих ломаную линию под всеми стратегиями игрока B, из этих вершин выбирается максимальная- **Аналитическое решение**\n",
    "* Перебор матриц игры - выбираем случайным образом два столбца, находим оптимальные стратегии и **проверяем статистическим моделированием - делаем 100000 итераций, на каждой из них выбирая случайне стратегии А и Б и проверяя что цена игры не стала лучше** - **Аналитический способ**."
   ]
  },
  {
   "cell_type": "code",
   "execution_count": 1,
   "id": "07c0d44b",
   "metadata": {},
   "outputs": [],
   "source": [
    "# Код на Питоне\n",
    "import numpy as np\n",
    "import matplotlib.pyplot as plt\n",
    "\n",
    "# Получить точку пересечения по двум стратегиям\n",
    "# G - матрица игры\n",
    "# i, j - индексы столбца, соотвествующие стратегии Игрока 2\n",
    "def get_cross_point(G: np.ndarray, i: int, j: int):\n",
    "    # Если прямые параллельны\n",
    "    if (G[1][i] - G[0][i]) / (G[1][j] - G[0][j]) == 1:\n",
    "        # Если они совпадают, вернем первую точку прямой\n",
    "        if G[0][i] == G[1][i]:\n",
    "            return 0\n",
    "        else:\n",
    "            return None\n",
    "\n",
    "    x = (G[0][j] - G[0][i]) / (G[1][i] - G[0][i] - G[1][j] + G[0][j])\n",
    "    y = (G[1][i] - G[0][i]) * x + G[0][i]\n",
    "    return np.array([x, y])\n",
    "\n",
    "# Получить элементы вида [i, j, [x, y]], где [x, y] - кооридинаты точки пересечения i и j стратегии Игрока 2\n",
    "def get_all_cross_points(G: np.ndarray):\n",
    "    result = []\n",
    "    for i in range(G.shape[1]):\n",
    "        for j in range(G.shape[1]):\n",
    "            if i == j:\n",
    "                continue\n",
    "\n",
    "            # Т.к. пересения i,j то же самое, что пересечение j,i\n",
    "            is_point_already_added = False\n",
    "            for item in result:\n",
    "                if item[0] == j and item[1] == i:\n",
    "                    is_point_already_added = True\n",
    "                    break\n",
    "            if is_point_already_added:\n",
    "                continue\n",
    "\n",
    "            point = get_cross_point(G, i, j)\n",
    "            \n",
    "            if point is None:\n",
    "                continue\n",
    "            \n",
    "            [x, y] = point\n",
    "\n",
    "            # Нам интересны только те точки пересечения, которые находятся на отрезке [0; 1]\n",
    "            if x >= 0 and x <= 1:\n",
    "                result.append([i, j, [x, y]])\n",
    "    # Соритируем точки пересечения по x\n",
    "    return sorted(result, key = lambda item: item[2][0])\n",
    "\n",
    "def get_optimal_first_player_strategy(G):\n",
    "    filtered_points = []\n",
    "    previous_point = 0\n",
    "    \n",
    "    # Для каждого отрезка между двумя точками пересчениями\n",
    "    for [i, j, [x, y]] in get_all_cross_points(G):\n",
    "        # Выбираем его середину\n",
    "        middle = previous_point + (x - previous_point) / 2\n",
    "        \n",
    "        # Находим прямую, которая находится ниже всех для этого отрезка\n",
    "        min_i = 0\n",
    "        min_value = 2**15\n",
    "        for k in range(G.shape[1]):\n",
    "            current_value = (G[1][k] - G[0][k]) * middle + G[0][k]\n",
    "            if current_value < min_value:\n",
    "                min_i = k\n",
    "                min_value = current_value\n",
    "\n",
    "        # Если точка пересчения принадлежит найденной прямой, запоминаем точку пересечния\n",
    "        if min_i == i or min_i == j:\n",
    "            filtered_points.append([i, j, [x, y]])\n",
    "        previous_point = x\n",
    "    return sorted(filtered_points, key = lambda item: item[2][1], reverse=True)[0]\n",
    "\n",
    "def draw_game(G):\n",
    "    plt.plot([-0.1, 1.1],[0, 0],'b')\n",
    "    plt.plot([0,0],[0,10],'b')\n",
    "    plt.plot([1,1],[0,10],'b')\n",
    "\n",
    "    for item in get_all_cross_points(G):\n",
    "        plt.plot(item[2][0], item[2][1], 'g*')\n",
    "    \n",
    "    [i, j, [x, y]] = get_optimal_first_player_strategy(G)\n",
    "    plt.plot(x, y, 'r*')\n",
    "\n",
    "    for k in range(len(G[0])):\n",
    "        plt.plot([0],G[0][k],'g*')\n",
    "        plt.plot([1],G[1][k],'g*')\n",
    "        line_color = 'r' if i == k or j == k else 'g'\n",
    "        plt.plot([0,1],[G[0][k],G[1][k]], line_color)\n",
    "\n",
    "    plt.grid(True)\n",
    "    plt.show()\n",
    "    return [i, j, [x, y]]"
   ]
  },
  {
   "cell_type": "code",
   "execution_count": 2,
   "id": "e3cf6c25",
   "metadata": {},
   "outputs": [
    {
     "name": "stdout",
     "output_type": "stream",
     "text": [
      "G = [[ 3  5  4  6]\n",
      " [ 8  6 10  4]]\n"
     ]
    },
    {
     "data": {
      "image/png": "[encoded data removed]",
      "text/plain": [
       "<Figure size 432x288 with 1 Axes>"
      ]
     },
     "metadata": {
      "needs_background": "light"
     },
     "output_type": "display_data"
    },
    {
     "name": "stdout",
     "output_type": "stream",
     "text": [
      "Оптимальными стратегиями Игрока 1 являются: 0 и 3.\n",
      "С вероятностью = 0.42857.\n",
      "Цена игры 5.14286.\n"
     ]
    }
   ],
   "source": [
    "# Код на Питоне\n",
    "G = np.array([[3, 5, 4, 6],\n",
    "              [8, 6, 10, 4]])\n",
    "print(\"G = {0}\".format(G))\n",
    "\n",
    "[i, j, [x, y]] = draw_game(G)\n",
    "print(\"Оптимальными стратегиями Игрока 1 являются: {0} и {1}.\\nС вероятностью = {2:.5f}.\\nЦена игры {3:.5f}.\".format(i, j, x, y))"
   ]
  },
  {
   "cell_type": "markdown",
   "id": "8382cfce",
   "metadata": {},
   "source": [
    "## Задание 2"
   ]
  },
  {
   "cell_type": "markdown",
   "id": "707c70cf",
   "metadata": {},
   "source": [
    "Решить игру и найти оптимальную стратегию игрока B"
   ]
  },
  {
   "cell_type": "markdown",
   "id": "b3ce0cf2",
   "metadata": {},
   "source": [
    "Для решения задания 2 воспользуемся результатами задания 1 и утверждением 3."
   ]
  },
  {
   "cell_type": "code",
   "execution_count": 3,
   "id": "18dd826f",
   "metadata": {
    "scrolled": true
   },
   "outputs": [
    {
     "name": "stdout",
     "output_type": "stream",
     "text": [
      "Оптимальными стратегиями Игрока 2 являются: 0 и 3.\n",
      "С вероятностью = 0.28571.\n",
      "Цена игры 5.14286.\n"
     ]
    }
   ],
   "source": [
    "# Код на Питоне\n",
    "A = np.array([[(G[0][i] - G[0][j]), -1],\n",
    "              [(G[1][i] - G[1][j]), -1]])\n",
    "f = np.array([-G[0][j], -G[1][j]])\n",
    "\n",
    "[x, y] = np.linalg.solve(A, f)\n",
    "print(\"Оптимальными стратегиями Игрока 2 являются: {0} и {1}.\\nС вероятностью = {2:.5f}.\\nЦена игры {3:.5f}.\".format(i, j, x, y))"
   ]
  },
  {
   "cell_type": "markdown",
   "id": "dfdd1e28",
   "metadata": {},
   "source": [
    "\n",
    "### Отчет по исследованию матричных игр\n",
    "\n",
    "**Выполнил**: Решетников Егор Алексеевич (ПМ-41) (reshetnikov.e.a@mail.ru)\n",
    "\n",
    "**Преподаватель**: Гурьянов М.А., кафедра ВМ-1\n",
    "\n",
    "\n",
    "Весенний семестр, 2022 год\n",
    "\n",
    "МИЭТ, Зеленоград"
   ]
  },
  {
   "cell_type": "markdown",
   "id": "e1d0d007",
   "metadata": {},
   "source": [
    "# Глава 3. Статические игры с ненулевой суммой. Доминирующие и доминируемые стратегии. Метод СДС."
   ]
  },
  {
   "cell_type": "markdown",
   "id": "9f091279",
   "metadata": {},
   "source": [
    "## Теоретические сведения"
   ]
  },
  {
   "cell_type": "markdown",
   "id": "936c9286",
   "metadata": {},
   "source": [
    "Стратегия B называется строго доминирующей, если она строго доминирует любую другую допустимую стратегию игрока.\n",
    "\n",
    "Стратегия B называется слабо доминирующей, если она доминирует любую другую допустимую стратегию игрока, при этом некоторые из них доминируются слабо.\n",
    "\n",
    "Стратегия B называется строго доминируемой, если существует другая стратегия, которая строго её доминирует.\n",
    "\n",
    "Стратегия B называется слабо доминируемой, если существует другая стратегия, которая слабо её доминирует.\n",
    "\n",
    "Последовательное исключение доминируемых стратегий — часто используемая технология решения или упрощения некооперативных игр. Она основана на предположении о том, что в процессе игры стороны не будут использовать доминируемые стратегии, в связи с чем их можно не рассматривать при дальнейшем решении. Однако, исключение этих стратегий из рассмотрения приводит к сужению множества возможных ситуаций, в результате чего могут возникнуть новые доминируемые стратегии, которые в исходной игре не доминировались."
   ]
  },
  {
   "cell_type": "markdown",
   "id": "51d77628",
   "metadata": {},
   "source": [
    "## Задание 1"
   ]
  },
  {
   "cell_type": "markdown",
   "id": "5aff3dbf",
   "metadata": {},
   "source": [
    "Написать функцию генерации платежной матрицы игры заданной размерности M x N. При этом добавить опциональные параметры (в Матлабе - написать несколько разных функций), позволяющих:\n",
    "* Сделать просто произвольную платежную матрицу из целых чисел M x N\n",
    "* Создать такую платежную матрицу M x N где есть ровно k<N последовательно доминирующих стратегий (т.е. если удалить доминирующую строчку, то в оставшейся матрице все равно останется доминирующая строчка)\n",
    "* Создать такую платежную матрицу M x N где есть ровно k<N последовательно доминируемых стратегий (т.е. по методу СДС должно удаляться ровно k строк)\n"
   ]
  },
  {
   "cell_type": "code",
   "execution_count": 1,
   "id": "90af785b",
   "metadata": {},
   "outputs": [],
   "source": [
    "## Код на Питоне\n",
    "import numpy as np\n",
    "import random\n",
    "\n",
    "random.seed(42)"
   ]
  },
  {
   "cell_type": "code",
   "execution_count": 2,
   "id": "dd1a95ce",
   "metadata": {},
   "outputs": [],
   "source": [
    "## Код на Питоне\n",
    "def sort_first_k_rows_items(matrix: np.ndarray, rows_sort_count: int, reverse: bool = False):\n",
    "    k = 0\n",
    "    while k < rows_sort_count and k < matrix.shape[0]:\n",
    "        # Для каждого столбца\n",
    "        for j in range(matrix.shape[1]):\n",
    "            max_by_column_row_num = k\n",
    "            previous_max = matrix[k][j]\n",
    "\n",
    "            # Находим максимум в столбце, начиная с k-ой строки\n",
    "            for i in range(k, matrix.shape[0]):\n",
    "                if reverse:\n",
    "                    if matrix[i][j] < previous_max:\n",
    "                        max_by_column_row_num = i\n",
    "                        previous_max = matrix[i][j]\n",
    "                else:\n",
    "                    if matrix[i][j] > previous_max:\n",
    "                        max_by_column_row_num = i\n",
    "                        previous_max = matrix[i][j]\n",
    "\n",
    "            # Меняем местами элемент k-ой строки и максимальный элемент в этом столбце, начиная с k-ой строки\n",
    "            matrix[max_by_column_row_num][j] = matrix[k][j]\n",
    "            matrix[k][j] = previous_max\n",
    "        k += 1\n",
    "\n",
    "    # Чтобы было не больше K отсортированных записей, нарушаем порядок в остальных строках\n",
    "    if matrix.shape[0] <= k+1:\n",
    "        return True\n",
    "\n",
    "    # Пока есть лишние стратегии\n",
    "    for i in range(k+1, matrix.shape[0]):\n",
    "        values_need_suffle = True\n",
    "        for j in range(matrix.shape[1]):\n",
    "            if reverse:\n",
    "                if matrix[i][j] != matrix[k:, j].max():\n",
    "                    values_need_suffle = False\n",
    "            else:\n",
    "                 if matrix[i][j] != matrix[k:, j].min():\n",
    "                    values_need_suffle = False\n",
    "        if values_need_suffle:\n",
    "            return False\n",
    "    return True\n",
    "\n",
    "def generate_cost_matrix(rows_count: int, columns_count: int, dominant_strategies_count: int = 0,\n",
    "                        dominated_strategies_count: int = 0) -> np.ndarray:\n",
    "    result_cost_matrix = np.zeros((rows_count, columns_count))\n",
    "    \n",
    "    # заполнили рандомно платежную матрицу\n",
    "    for i in range(result_cost_matrix.shape[0]):\n",
    "        for j in range(result_cost_matrix.shape[1]):\n",
    "            result_cost_matrix[i][j] = random.randint(1, 1000)\n",
    "    \n",
    "    # отсортируем первые k строк так, чтобы они были доминирующими стратегиями\n",
    "    valid = sort_first_k_rows_items(result_cost_matrix, dominant_strategies_count)\n",
    "    if not valid:\n",
    "        return generate_cost_matrix(rows_count, columns_count, dominant_strategies_count,\n",
    "                        dominated_strategies_count)\n",
    "\n",
    "    # отсортируем первые k строк так, чтобы они были доминируемыми стратегиями\n",
    "    valid = sort_first_k_rows_items(result_cost_matrix, dominated_strategies_count, reverse = True)\n",
    "    if not valid:\n",
    "        return generate_cost_matrix(rows_count, columns_count, dominant_strategies_count,\n",
    "                            dominated_strategies_count)\n",
    "    return result_cost_matrix    "
   ]
  },
  {
   "cell_type": "markdown",
   "id": "5c25ba11",
   "metadata": {},
   "source": [
    "Проверим работу метода. Создадим матрицу 5 на 3 с 2 доминирующими стратегями:"
   ]
  },
  {
   "cell_type": "markdown",
   "id": "2cecf25b",
   "metadata": {},
   "source": [
    "Видим, что метод отработал верно. Первые две строки - доминирующие стратегии. Проверим генерацию доминируемых стратегий.\n",
    "Создадим матрицу 5 на 3 с 2 доминируемыми стратегями:"
   ]
  },
  {
   "cell_type": "code",
   "execution_count": 3,
   "id": "b234167f",
   "metadata": {},
   "outputs": [
    {
     "data": {
      "text/plain": [
       "array([[105., 115.,  26.],\n",
       "       [229., 143.,  90.],\n",
       "       [760., 282., 755.],\n",
       "       [655., 693., 759.],\n",
       "       [914., 559., 251.]])"
      ]
     },
     "execution_count": 3,
     "metadata": {},
     "output_type": "execute_result"
    }
   ],
   "source": [
    "## Код на Питоне\n",
    "generate_cost_matrix(5, 3, dominated_strategies_count=2)"
   ]
  },
  {
   "cell_type": "markdown",
   "id": "04f04fdc",
   "metadata": {},
   "source": [
    "Видим, что метод отработал верно. Первые две строки - доминируемые стратегии."
   ]
  },
  {
   "cell_type": "markdown",
   "id": "cabcfe38",
   "metadata": {},
   "source": [
    "## Задание 2"
   ]
  },
  {
   "cell_type": "markdown",
   "id": "aa2c0b47",
   "metadata": {},
   "source": [
    "Реализовать метод СДС для произвольных платежных матриц (функция должна выводить, сколько раз у нее получилось удалить строчку доминируемой стратегии)"
   ]
  },
  {
   "cell_type": "code",
   "execution_count": 9,
   "id": "5d0aa8c2",
   "metadata": {},
   "outputs": [],
   "source": [
    "## Код на Питоне\n",
    "def dominated_strategies_excluding(matrix: np.ndarray, print_message: bool = True) -> (int, np.ndarray):\n",
    "    deleted_rows_count = 0\n",
    "\n",
    "    while True:\n",
    "        # составляем строку из минимумов\n",
    "        min_values_by_columns = np.array([min(column) for column in matrix.T])\n",
    "        rows_to_delete = []\n",
    "\n",
    "        # проверяем, есть ли такая в матрице\n",
    "        for i in range(matrix.shape[0]):\n",
    "            all_items_matched = True\n",
    "            \n",
    "            for j in range(matrix.shape[1]):\n",
    "                if matrix[i][j] != min_values_by_columns[j]:\n",
    "                    all_items_matched = False\n",
    "                    break\n",
    "            if all_items_matched:\n",
    "                rows_to_delete.append(i)\n",
    "        \n",
    "        # Если уже все удалили\n",
    "        if len(rows_to_delete) == 0 or matrix.shape[0] == 1:\n",
    "            break\n",
    "        \n",
    "        # Удаляем строки\n",
    "        deleted_rows_count += len(rows_to_delete)\n",
    "        \n",
    "        for row_num in reversed(rows_to_delete):\n",
    "            matrix = np.delete(matrix, row_num, 0)\n",
    "    if print_message:\n",
    "        print(\"Работа метода завершена, удалено {0} строк\".format(deleted_rows_count))\n",
    "    return (deleted_rows_count, matrix)\n"
   ]
  },
  {
   "cell_type": "markdown",
   "id": "6b254cb4",
   "metadata": {},
   "source": [
    "Проверим работу метода. Создадим матрицу с 2 доминируемыми стратегями и запустим метод с полученной матрицей"
   ]
  },
  {
   "cell_type": "code",
   "execution_count": 5,
   "id": "b8335885",
   "metadata": {},
   "outputs": [
    {
     "name": "stdout",
     "output_type": "stream",
     "text": [
      "Исходная матрица:\n",
      "[[ 96.  28.  33.  31.]\n",
      " [605. 224. 239. 204.]\n",
      " [617. 433. 575. 518.]]\n",
      "\n",
      "\n",
      "Работа метода завершена, удалено 2 строк\n",
      "\n",
      "\n",
      "Матрица после работы метода СДС:\n",
      "[[617. 433. 575. 518.]]\n"
     ]
    }
   ],
   "source": [
    "## Код на Питоне\n",
    "matrix = generate_cost_matrix(3, 4, 0, 2)\n",
    "print(\"Исходная матрица:\")\n",
    "print(matrix)\n",
    "print(\"\\n\")\n",
    "\n",
    "deleted_rows_count, matrix = dominated_strategies_excluding(matrix)\n",
    "print(\"\\n\")\n",
    "print(\"Матрица после работы метода СДС:\")\n",
    "print(matrix)"
   ]
  },
  {
   "cell_type": "markdown",
   "id": "ef98a2cb",
   "metadata": {},
   "source": [
    "Видим, что метод реализован верно."
   ]
  },
  {
   "cell_type": "markdown",
   "id": "6dead013",
   "metadata": {},
   "source": [
    "## Задание 3"
   ]
  },
  {
   "cell_type": "markdown",
   "id": "3ec65391",
   "metadata": {},
   "source": [
    "Проверить правильность выполнения задания 1 путем запуска в цикле 1000 разных матриц чтобы убедиться что у вас не получилось случайно ни в одной из них лишних доминируемых/доминирующих стратегий (должно быть ровно K)"
   ]
  },
  {
   "cell_type": "markdown",
   "id": "235d8614",
   "metadata": {},
   "source": [
    "Проверять будем, запуская метод из задания 2 и сравнивая кол-во удаленных строк с кол-вом доминируемых стратегий."
   ]
  },
  {
   "cell_type": "code",
   "execution_count": 10,
   "id": "d4be9024",
   "metadata": {},
   "outputs": [
    {
     "name": "stdout",
     "output_type": "stream",
     "text": [
      "Ошибок не обнаружено\n"
     ]
    }
   ],
   "source": [
    "## Код на Питоне\n",
    "K = 5\n",
    "rows_count = 6\n",
    "columns_count = 4\n",
    "\n",
    "for i in range(1000):\n",
    "    # Создаем матрицу методом из задания 1\n",
    "    matrix = generate_cost_matrix(rows_count, columns_count, dominated_strategies_count=K)\n",
    "    \n",
    "    # Запускаем на ней метод из задания 2\n",
    "    deleted_rows_count, a = dominated_strategies_excluding(matrix, False)\n",
    "    \n",
    "    # Если кол-во удаленных строк не равно K, фиксируем ошибку\n",
    "    if deleted_rows_count != K:\n",
    "        print(\"Ошибка! Количесво удаленных строк методом из задания 2 не равно K\")\n",
    "        print(matrix)\n",
    "        break\n",
    "    if (i == 999):\n",
    "        print(\"Ошибок не обнаружено\")"
   ]
  },
  {
   "cell_type": "markdown",
   "id": "5dad35d8",
   "metadata": {},
   "source": [
    "Видим, что ошибок не обнаружено"
   ]
  },
  {
   "cell_type": "code",
   "execution_count": null,
   "id": "ea6aa19f",
   "metadata": {},
   "outputs": [],
   "source": [
    "\n",
    "### Отчет по исследованию матричных игр\n",
    "\n",
    "**Выполнил**: Решетников Егор Алексеевич (ПМ-41) (reshetnikov.e.a@mail.ru)\n",
    "\n",
    "**Преподаватель**: Гурьянов М.А., кафедра ВМ-1\n",
    "\n",
    "\n",
    "Весенний семестр, 2022 год\n",
    "\n",
    "МИЭТ, Зеленоград\n",
    "\n",
    "# Глава 3. Статические игры с ненулевой суммой. Доминирующие и доминируемые стратегии. Метод СДС.\n",
    "\n",
    "## Теоретические сведения\n",
    "\n",
    "Стратегия B называется строго доминирующей, если она строго доминирует любую другую допустимую стратегию игрока.\n",
    "\n",
    "Стратегия B называется слабо доминирующей, если она доминирует любую другую допустимую стратегию игрока, при этом некоторые из них доминируются слабо.\n",
    "\n",
    "Стратегия B называется строго доминируемой, если существует другая стратегия, которая строго её доминирует.\n",
    "\n",
    "Стратегия B называется слабо доминируемой, если существует другая стратегия, которая слабо её доминирует.\n",
    "\n",
    "Последовательное исключение доминируемых стратегий — часто используемая технология решения или упрощения некооперативных игр. Она основана на предположении о том, что в процессе игры стороны не будут использовать доминируемые стратегии, в связи с чем их можно не рассматривать при дальнейшем решении. Однако, исключение этих стратегий из рассмотрения приводит к сужению множества возможных ситуаций, в результате чего могут возникнуть новые доминируемые стратегии, которые в исходной игре не доминировались.\n",
    "\n",
    "## Задание 1\n",
    "\n",
    "Написать функцию генерации платежной матрицы игры заданной размерности M x N. При этом добавить опциональные параметры (в Матлабе - написать несколько разных функций), позволяющих:\n",
    "* Сделать просто произвольную платежную матрицу из целых чисел M x N\n",
    "* Создать такую платежную матрицу M x N где есть ровно k<N последовательно доминирующих стратегий (т.е. если удалить доминирующую строчку, то в оставшейся матрице все равно останется доминирующая строчка)\n",
    "* Создать такую платежную матрицу M x N где есть ровно k<N последовательно доминируемых стратегий (т.е. по методу СДС должно удаляться ровно k строк)\n",
    "\n",
    "\n",
    "## Код на Питоне\n",
    "import numpy as np\n",
    "import random\n",
    "\n",
    "random.seed(42)\n",
    "\n",
    "## Код на Питоне\n",
    "def sort_first_k_rows_items(matrix: np.ndarray, rows_sort_count: int, reverse: bool = False):\n",
    "    k = 0\n",
    "    while k < rows_sort_count and k < matrix.shape[0]:\n",
    "        # Для каждого столбца\n",
    "        for j in range(matrix.shape[1]):\n",
    "            max_by_column_row_num = k\n",
    "            previous_max = matrix[k][j]\n",
    "\n",
    "            # Находим максимум в столбце, начиная с k-ой строки\n",
    "            for i in range(k, matrix.shape[0]):\n",
    "                if reverse:\n",
    "                    if matrix[i][j] < previous_max:\n",
    "                        max_by_column_row_num = i\n",
    "                        previous_max = matrix[i][j]\n",
    "                else:\n",
    "                    if matrix[i][j] > previous_max:\n",
    "                        max_by_column_row_num = i\n",
    "                        previous_max = matrix[i][j]\n",
    "\n",
    "            # Меняем местами элемент k-ой строки и максимальный элемент в этом столбце, начиная с k-ой строки\n",
    "            matrix[max_by_column_row_num][j] = matrix[k][j]\n",
    "            matrix[k][j] = previous_max\n",
    "        k += 1\n",
    "\n",
    "    # Чтобы было не больше K отсортированных записей, нарушаем порядок в остальных строках\n",
    "    if matrix.shape[0] <= k+1:\n",
    "        return True\n",
    "\n",
    "    # Пока есть лишние стратегии\n",
    "    for i in range(k+1, matrix.shape[0]):\n",
    "        values_need_suffle = True\n",
    "        for j in range(matrix.shape[1]):\n",
    "            if reverse:\n",
    "                if matrix[i][j] != matrix[k:, j].max():\n",
    "                    values_need_suffle = False\n",
    "            else:\n",
    "                 if matrix[i][j] != matrix[k:, j].min():\n",
    "                    values_need_suffle = False\n",
    "        if values_need_suffle:\n",
    "            return False\n",
    "    return True\n",
    "\n",
    "def generate_cost_matrix(rows_count: int, columns_count: int, dominant_strategies_count: int = 0,\n",
    "                        dominated_strategies_count: int = 0) -> np.ndarray:\n",
    "    result_cost_matrix = np.zeros((rows_count, columns_count))\n",
    "    \n",
    "    # заполнили рандомно платежную матрицу\n",
    "    for i in range(result_cost_matrix.shape[0]):\n",
    "        for j in range(result_cost_matrix.shape[1]):\n",
    "            result_cost_matrix[i][j] = random.randint(1, 1000)\n",
    "    \n",
    "    # отсортируем первые k строк так, чтобы они были доминирующими стратегиями\n",
    "    valid = sort_first_k_rows_items(result_cost_matrix, dominant_strategies_count)\n",
    "    if not valid:\n",
    "        return generate_cost_matrix(rows_count, columns_count, dominant_strategies_count,\n",
    "                        dominated_strategies_count)\n",
    "\n",
    "    # отсортируем первые k строк так, чтобы они были доминируемыми стратегиями\n",
    "    valid = sort_first_k_rows_items(result_cost_matrix, dominated_strategies_count, reverse = True)\n",
    "    if not valid:\n",
    "        return generate_cost_matrix(rows_count, columns_count, dominant_strategies_count,\n",
    "                            dominated_strategies_count)\n",
    "    return result_cost_matrix    \n",
    "\n",
    "Проверим работу метода. Создадим матрицу 5 на 3 с 2 доминирующими стратегями:\n",
    "\n",
    "Видим, что метод отработал верно. Первые две строки - доминирующие стратегии. Проверим генерацию доминируемых стратегий.\n",
    "Создадим матрицу 5 на 3 с 2 доминируемыми стратегями:\n",
    "\n",
    "## Код на Питоне\n",
    "generate_cost_matrix(5, 3, dominated_strategies_count=2)\n",
    "\n",
    "Видим, что метод отработал верно. Первые две строки - доминируемые стратегии.\n",
    "\n",
    "## Задание 2\n",
    "\n",
    "Реализовать метод СДС для произвольных платежных матриц (функция должна выводить, сколько раз у нее получилось удалить строчку доминируемой стратегии)\n",
    "\n",
    "## Код на Питоне\n",
    "def dominated_strategies_excluding(matrix: np.ndarray, print_message: bool = True) -> (int, np.ndarray):\n",
    "    deleted_rows_count = 0\n",
    "\n",
    "    while True:\n",
    "        # составляем строку из минимумов\n",
    "        min_values_by_columns = np.array([min(column) for column in matrix.T])\n",
    "        rows_to_delete = []\n",
    "\n",
    "        # проверяем, есть ли такая в матрице\n",
    "        for i in range(matrix.shape[0]):\n",
    "            all_items_matched = True\n",
    "            \n",
    "            for j in range(matrix.shape[1]):\n",
    "                if matrix[i][j] != min_values_by_columns[j]:\n",
    "                    all_items_matched = False\n",
    "                    break\n",
    "            if all_items_matched:\n",
    "                rows_to_delete.append(i)\n",
    "        \n",
    "        # Если уже все удалили\n",
    "        if len(rows_to_delete) == 0 or matrix.shape[0] == 1:\n",
    "            break\n",
    "        \n",
    "        # Удаляем строки\n",
    "        deleted_rows_count += len(rows_to_delete)\n",
    "        \n",
    "        for row_num in reversed(rows_to_delete):\n",
    "            matrix = np.delete(matrix, row_num, 0)\n",
    "    if print_message:\n",
    "        print(\"Работа метода завершена, удалено {0} строк\".format(deleted_rows_count))\n",
    "    return (deleted_rows_count, matrix)\n",
    "\n",
    "\n",
    "Проверим работу метода. Создадим матрицу с 2 доминируемыми стратегями и запустим метод с полученной матрицей\n",
    "\n",
    "## Код на Питоне\n",
    "matrix = generate_cost_matrix(3, 4, 0, 2)\n",
    "print(\"Исходная матрица:\")\n",
    "print(matrix)\n",
    "print(\"\\n\")\n",
    "\n",
    "deleted_rows_count, matrix = dominated_strategies_excluding(matrix)\n",
    "print(\"\\n\")\n",
    "print(\"Матрица после работы метода СДС:\")\n",
    "print(matrix)\n",
    "\n",
    "Видим, что метод реализован верно.\n",
    "\n",
    "## Задание 3\n",
    "\n",
    "Проверить правильность выполнения задания 1 путем запуска в цикле 1000 разных матриц чтобы убедиться что у вас не получилось случайно ни в одной из них лишних доминируемых/доминирующих стратегий (должно быть ровно K)\n",
    "\n",
    "Проверять будем, запуская метод из задания 2 и сравнивая кол-во удаленных строк с кол-вом доминируемых стратегий.\n",
    "\n",
    "## Код на Питоне\n",
    "K = 5\n",
    "rows_count = 6\n",
    "columns_count = 4\n",
    "\n",
    "for i in range(1000):\n",
    "    # Создаем матрицу методом из задания 1\n",
    "    matrix = generate_cost_matrix(rows_count, columns_count, dominated_strategies_count=K)\n",
    "    \n",
    "    # Запускаем на ней метод из задания 2\n",
    "    deleted_rows_count, a = dominated_strategies_excluding(matrix, False)\n",
    "    \n",
    "    # Если кол-во удаленных строк не равно K, фиксируем ошибку\n",
    "    if deleted_rows_count != K:\n",
    "        print(\"Ошибка! Количесво удаленных строк методом из задания 2 не равно K\")\n",
    "        print(matrix)\n",
    "        break\n",
    "    if (i == 999):\n",
    "        print(\"Ошибок не обнаружено\")\n",
    "\n",
    "Видим, что ошибок не обнаружено"
   ]
  },
  {
   "cell_type": "code",
   "execution_count": null,
   "id": "2f6703d5",
   "metadata": {},
   "outputs": [],
   "source": []
  }
 ],
 "metadata": {
  "kernelspec": {
   "display_name": "Python 3 (ipykernel)",
   "language": "python",
   "name": "python3"
  },
  "language_info": {
   "codemirror_mode": {
    "name": "ipython",
    "version": 3
   },
   "file_extension": ".py",
   "mimetype": "text/x-python",
   "name": "python",
   "nbconvert_exporter": "python",
   "pygments_lexer": "ipython3",
   "version": "3.7.9"
  }
 },
 "nbformat": 4,
 "nbformat_minor": 5
}
