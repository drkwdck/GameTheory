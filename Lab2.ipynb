{
 "cells": [
  {
   "cell_type": "markdown",
   "metadata": {},
   "source": [
    "\n",
    "### Отчет по исследованию матричных игр\n",
    "\n",
    "**Выполнил**: Решетников Егор Алексеевич (ПМ-41) (reshetnikov.e.a@mail.ru)\n",
    "\n",
    "**Преподаватель**: Гурьянов М.А., кафедра ВМ-1"
   ]
  },
  {
   "cell_type": "markdown",
   "metadata": {},
   "source": [
    "# Глава 2 Математическая модель и решение задач в частных случаях"
   ]
  },
  {
   "cell_type": "markdown",
   "metadata": {},
   "source": [
    "## Теоретические сведения"
   ]
  },
  {
   "cell_type": "markdown",
   "metadata": {},
   "source": [
    "**Чистая стратегия** даёт полную определённость, каким образом игрок продолжит игру. В частности, она определяет результат для каждого возможного выбора, который игроку может придётся сделать. Пространством стратегий называют множество всех чистых стратегий, доступных данному игроку.\n",
    "\n",
    "**Смешанная стратегия** является указанием вероятности каждой чистой стратегии."
   ]
  },
  {
   "cell_type": "markdown",
   "metadata": {},
   "source": [
    "**Утверждение 1**:\n",
    "Оптимальная стратегия игрока А в игре данного вида (2 x N) находится как самая высокая точка нижней границы всех линий страгий (на рисунке зеленые)\n",
    "$$\n",
    "A = [x, (1-x)]\n",
    "$$"
   ]
  },
  {
   "cell_type": "markdown",
   "metadata": {},
   "source": [
    "Координата Y максимальной крайней точки обозначает цену игры"
   ]
  },
  {
   "cell_type": "markdown",
   "metadata": {},
   "source": [
    "**Утверждение 2**: Две стратегии игрока B, образующие на пересечении точку оптимальной стратегии игрока А являются единственными полезными стратегиями игрока B. (тоесть это единственные стратегии которые будет использовать игрок B)."
   ]
  },
  {
   "cell_type": "markdown",
   "metadata": {},
   "source": [
    "**Утверждение 3**:\n",
    "Оптимальнся стратегия игрока B ищется исходя из системы уравнений:\n",
    "\n",
    "$$\n",
    "\\begin{cases}\n",
    "b_i \\cdot (x,1-x) = V\\\\\n",
    "b_j \\cdot (x,1-x) = V\n",
    "\\end{cases}\n",
    "$$\n",
    "\n",
    "Или \n",
    "\n",
    "$$\n",
    "\\begin{cases}\n",
    "p \\cdot G(1,i) + (1-p) \\cdot G(1,j)  = V\\\\\n",
    "p \\cdot G(2,i) + (1-p) \\cdot G(2,j)  = V\\\\\n",
    "\\end{cases}\n",
    "$$"
   ]
  },
  {
   "cell_type": "markdown",
   "metadata": {},
   "source": [
    "## Задание 1"
   ]
  },
  {
   "cell_type": "markdown",
   "metadata": {},
   "source": [
    "Написать функцию которая на вход принимает матрицу игры G и\n",
    "1. Рисует графическую интрепретацию игры\n",
    "2. Находит координаты точки оптимальной игры и вычисляет оптимальную стратегию игрока А и цену игры\n",
    "\n",
    "Способы решения игры графически:\n",
    "\n",
    "* Перебрать значения координаты X  с шагом $\\epsilon$ и для каждого значения выбрать значение игры как минимум из всех линейных функций в данной точке - **Численное решение**\n",
    "* Перебрать все пары стратегий игрока B, найти их точки пересечения и выбрать точку перечения А) максимальную и Б находящуюся под невыбранными линиями. Из точек удовлетворяющийх условию выбирается максимальная по координате Y - **Аналитическое решение**\n",
    "* Метод Симплекса: Составляется список вершин, образующих ломаную линию под всеми стратегиями игрока B, из этих вершин выбирается максимальная- **Аналитическое решение**\n",
    "* Перебор матриц игры - выбираем случайным образом два столбца, находим оптимальные стратегии и **проверяем статистическим моделированием - делаем 100000 итераций, на каждой из них выбирая случайне стратегии А и Б и проверяя что цена игры не стала лучше** - **Аналитический способ**."
   ]
  },
  {
   "cell_type": "code",
   "execution_count": 1,
   "metadata": {},
   "outputs": [],
   "source": [
    "# Код на Питоне\n",
    "import numpy as np\n",
    "import matplotlib.pyplot as plt\n",
    "\n",
    "# Получить точку пересечения по двум стратегиям\n",
    "# G - матрица игры\n",
    "# i, j - индексы столбца, соотвествующие стратегии Игрока 2\n",
    "def get_cross_point(G: np.ndarray, i: int, j: int):\n",
    "    # Если прямые параллельны\n",
    "    if (G[1][i] - G[0][i]) / (G[1][j] - G[0][j]) == 1:\n",
    "        # Если они совпадают, вернем первую точку прямой\n",
    "        if G[0][i] == G[1][i]:\n",
    "            return 0\n",
    "        else:\n",
    "            return None\n",
    "\n",
    "    x = (G[0][j] - G[0][i]) / (G[1][i] - G[0][i] - G[1][j] + G[0][j])\n",
    "    y = (G[1][i] - G[0][i]) * x + G[0][i]\n",
    "    return np.array([x, y])\n",
    "\n",
    "# Получить элементы вида [i, j, [x, y]], где [x, y] - кооридинаты точки пересечения i и j стратегии Игрока 2\n",
    "def get_all_cross_points(G: np.ndarray):\n",
    "    result = []\n",
    "    for i in range(G.shape[1]):\n",
    "        for j in range(G.shape[1]):\n",
    "            if i == j:\n",
    "                continue\n",
    "\n",
    "            # Т.к. пересения i,j то же самое, что пересечение j,i\n",
    "            is_point_already_added = False\n",
    "            for item in result:\n",
    "                if item[0] == j and item[1] == i:\n",
    "                    is_point_already_added = True\n",
    "                    break\n",
    "            if is_point_already_added:\n",
    "                continue\n",
    "\n",
    "            point = get_cross_point(G, i, j)\n",
    "            \n",
    "            if point is None:\n",
    "                continue\n",
    "            \n",
    "            [x, y] = point\n",
    "\n",
    "            # Нам интересны только те точки пересечения, которые находятся на отрезке [0; 1]\n",
    "            if x >= 0 and x <= 1:\n",
    "                result.append([i, j, [x, y]])\n",
    "    # Соритируем точки пересечения по x\n",
    "    return sorted(result, key = lambda item: item[2][0])\n",
    "\n",
    "def get_optimal_first_player_strategy(G):\n",
    "    filtered_points = []\n",
    "    previous_point = 0\n",
    "    \n",
    "    # Для каждого отрезка между двумя точками пересчениями\n",
    "    for [i, j, [x, y]] in get_all_cross_points(G):\n",
    "        # Выбираем его середину\n",
    "        middle = previous_point + (x - previous_point) / 2\n",
    "        \n",
    "        # Находим прямую, которая находится ниже всех для этого отрезка\n",
    "        min_i = 0\n",
    "        min_value = 2**15\n",
    "        for k in range(G.shape[1]):\n",
    "            current_value = (G[1][k] - G[0][k]) * middle + G[0][k]\n",
    "            if current_value < min_value:\n",
    "                min_i = k\n",
    "                min_value = current_value\n",
    "\n",
    "        # Если точка пересчения принадлежит найденной прямой, запоминаем точку пересечния\n",
    "        if min_i == i or min_i == j:\n",
    "            filtered_points.append([i, j, [x, y]])\n",
    "        previous_point = x\n",
    "    return sorted(filtered_points, key = lambda item: item[2][1], reverse=True)[0]\n",
    "\n",
    "def draw_game(G):\n",
    "    plt.plot([-0.1, 1.1],[0, 0],'b')\n",
    "    plt.plot([0,0],[0,10],'b')\n",
    "    plt.plot([1,1],[0,10],'b')\n",
    "\n",
    "    for item in get_all_cross_points(G):\n",
    "        plt.plot(item[2][0], item[2][1], 'g*')\n",
    "    \n",
    "    [i, j, [x, y]] = get_optimal_first_player_strategy(G)\n",
    "    plt.plot(x, y, 'r*')\n",
    "\n",
    "    for k in range(len(G[0])):\n",
    "        plt.plot([0],G[0][k],'g*')\n",
    "        plt.plot([1],G[1][k],'g*')\n",
    "        line_color = 'r' if i == k or j == k else 'g'\n",
    "        plt.plot([0,1],[G[0][k],G[1][k]], line_color)\n",
    "\n",
    "    plt.grid(True)\n",
    "    plt.show()\n",
    "    return [i, j, [x, y]]"
   ]
  },
  {
   "cell_type": "code",
   "execution_count": 2,
   "metadata": {},
   "outputs": [
    {
     "name": "stdout",
     "output_type": "stream",
     "text": [
      "G = [[ 3  5  4  6]\n",
      " [ 8  6 10  4]]\n"
     ]
    },
    {
     "data": {
      "image/png": "[encoded data removed]",
      "text/plain": [
       "<Figure size 432x288 with 1 Axes>"
      ]
     },
     "metadata": {
      "needs_background": "light"
     },
     "output_type": "display_data"
    },
    {
     "name": "stdout",
     "output_type": "stream",
     "text": [
      "Оптимальными стратегиями Игрока 1 являются: 0 и 3.\n",
      "С вероятностью = 0.42857.\n",
      "Цена игры 5.14286.\n"
     ]
    }
   ],
   "source": [
    "# Код на Питоне\n",
    "G = np.array([[3, 5, 4, 6],\n",
    "              [8, 6, 10, 4]])\n",
    "print(\"G = {0}\".format(G))\n",
    "\n",
    "[i, j, [x, y]] = draw_game(G)\n",
    "print(\"Оптимальными стратегиями Игрока 1 являются: {0} и {1}.\\nС вероятностью = {2:.5f}.\\nЦена игры {3:.5f}.\".format(i, j, x, y))"
   ]
  },
  {
   "cell_type": "markdown",
   "metadata": {},
   "source": [
    "## Задание 2"
   ]
  },
  {
   "cell_type": "markdown",
   "metadata": {},
   "source": [
    "Решить игру и найти оптимальную стратегию игрока B"
   ]
  },
  {
   "cell_type": "markdown",
   "metadata": {},
   "source": [
    "Для решения задания 2 воспользуемся результатами задания 1 и утверждением 3."
   ]
  },
  {
   "cell_type": "code",
   "execution_count": 3,
   "metadata": {},
   "outputs": [
    {
     "name": "stdout",
     "output_type": "stream",
     "text": [
      "Оптимальными стратегиями Игрока 2 являются: 0 и 3.\n",
      "С вероятностью = 0.28571.\n",
      "Цена игры 5.14286.\n"
     ]
    }
   ],
   "source": [
    "# Код на Питоне\n",
    "A = np.array([[(G[0][i] - G[0][j]), -1],\n",
    "              [(G[1][i] - G[1][j]), -1]])\n",
    "f = np.array([-G[0][j], -G[1][j]])\n",
    "\n",
    "[x, y] = np.linalg.solve(A, f)\n",
    "print(\"Оптимальными стратегиями Игрока 2 являются: {0} и {1}.\\nС вероятностью = {2:.5f}.\\nЦена игры {3:.5f}.\".format(i, j, x, y))"
   ]
  }
 ],
 "metadata": {
  "interpreter": {
   "hash": "b3ba2566441a7c06988d0923437866b63cedc61552a5af99d1f4fb67d367b25f"
  },
  "kernelspec": {
   "display_name": "Python 3 (ipykernel)",
   "language": "python",
   "name": "python3"
  },
  "language_info": {
   "codemirror_mode": {
    "name": "ipython",
    "version": 3
   },
   "file_extension": ".py",
   "mimetype": "text/x-python",
   "name": "python",
   "nbconvert_exporter": "python",
   "pygments_lexer": "ipython3",
   "version": "3.7.9"
  }
 },
 "nbformat": 4,
 "nbformat_minor": 2
}
