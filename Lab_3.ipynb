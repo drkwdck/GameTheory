{
 "cells": [
  {
   "cell_type": "markdown",
   "id": "51d77628",
   "metadata": {},
   "source": [
    "## Задание 1"
   ]
  },
  {
   "cell_type": "markdown",
   "id": "5aff3dbf",
   "metadata": {},
   "source": [
    "Написать функцию генерации платежной матрицы игры заданной размерности M x N. При этом добавить опциональные параметры (в Матлабе - написать несколько разных функций), позволяющих:\n",
    "* Сделать просто произвольную платежную матрицу из целых чисел M x N\n",
    "* Создать такую платежную матрицу M x N где есть ровно k<N последовательно доминирующих стратегий (т.е. если удалить доминирующую строчку, то в оставшейся матрице все равно останется доминирующая строчка)\n",
    "* Создать такую платежную матрицу M x N где есть ровно k<N последовательно доминируемых стратегий (т.е. по методу СДС должно удаляться ровно k строк)\n"
   ]
  },
  {
   "cell_type": "code",
   "execution_count": 1,
   "id": "90af785b",
   "metadata": {},
   "outputs": [],
   "source": [
    "import numpy as np\n",
    "import random\n",
    "\n",
    "random.seed(42)"
   ]
  },
  {
   "cell_type": "code",
   "execution_count": 2,
   "id": "dd1a95ce",
   "metadata": {},
   "outputs": [],
   "source": [
    "def sort_first_k_rows_items(matrix: np.ndarray, rows_sort_count: int, reverse: bool = False):\n",
    "    k = 0\n",
    "    while k < rows_sort_count and k < matrix.shape[0]:\n",
    "        # Для каждого столбца\n",
    "        for j in range(matrix.shape[1]):\n",
    "            max_by_column_row_num = k\n",
    "            previous_max = matrix[k][j]\n",
    "\n",
    "            # Находим максимум в столбце, начиная с k-ой строки\n",
    "            for i in range(k, matrix.shape[0]):\n",
    "                if reverse:\n",
    "                    if matrix[i][j] < previous_max:\n",
    "                        max_by_column_row_num = i\n",
    "                        previous_max = matrix[i][j]\n",
    "                else:\n",
    "                    if matrix[i][j] > previous_max:\n",
    "                        max_by_column_row_num = i\n",
    "                        previous_max = matrix[i][j]\n",
    "\n",
    "            # Меняем местами элемент k-ой строки и максимальный элемент в этом столбце, начиная с k-ой строки\n",
    "            matrix[max_by_column_row_num][j] = matrix[k][j]\n",
    "            matrix[k][j] = previous_max\n",
    "        k += 1\n",
    "\n",
    "    # Чтобы было не больше K отсортированных записей, нарушаем порядок в остальных строках\n",
    "    if matrix.shape[0] <= k:\n",
    "        return True\n",
    "\n",
    "    # Пока есть лишние стратегии\n",
    "    for i in range(k, matrix.shape[0]):\n",
    "        values_need_suffle = True\n",
    "        for j in range(matrix.shape[1]):\n",
    "            if reverse:\n",
    "                if matrix[i][j] != matrix[k:, j].max():\n",
    "                    values_need_suffle = False\n",
    "            else:\n",
    "                 if matrix[i][j] != matrix[k:, j].min():\n",
    "                    values_need_suffle = False\n",
    "        if values_need_suffle:\n",
    "            return False\n",
    "    return True\n",
    "\n",
    "def generate_cost_matrix(rows_count: int, columns_count: int, dominant_strategies_count: int = 0,\n",
    "                        dominated_strategies_count: int = 0) -> np.ndarray:\n",
    "    result_cost_matrix = np.zeros((rows_count, columns_count))\n",
    "    \n",
    "    # заполнили рандомно платежную матрицу\n",
    "    for i in range(result_cost_matrix.shape[0]):\n",
    "        for j in range(result_cost_matrix.shape[1]):\n",
    "            result_cost_matrix[i][j] = random.randint(1, 500)\n",
    "    \n",
    "    # отсортируем первые k строк так, чтобы они были доминирующими стратегиями\n",
    "    valid = sort_first_k_rows_items(result_cost_matrix, dominant_strategies_count)\n",
    "    if not valid:\n",
    "        return generate_cost_matrix(rows_count, columns_count, dominant_strategies_count,\n",
    "                        dominated_strategies_count)\n",
    "\n",
    "    # отсортируем первые k строк так, чтобы они были доминируемыми стратегиями\n",
    "    valid = sort_first_k_rows_items(result_cost_matrix, dominated_strategies_count, reverse = True)\n",
    "    if not valid:\n",
    "        return generate_cost_matrix(rows_count, columns_count, dominant_strategies_count,\n",
    "                            dominated_strategies_count)\n",
    "    return result_cost_matrix    "
   ]
  },
  {
   "cell_type": "markdown",
   "id": "64110556",
   "metadata": {},
   "source": [
    "Проверим работу метода. Создадим матрицу 5 на 3 с 2 доминирующими стратегями:"
   ]
  },
  {
   "cell_type": "markdown",
   "id": "8f3f1925",
   "metadata": {},
   "source": [
    "Видим, что метод отработал верно. Первые две строки - доминирующие стратегии. Проверим генерацию доминируемых стратегий.\n",
    "Создадим матрицу 5 на 3 с 2 доминируемыми стратегями:"
   ]
  },
  {
   "cell_type": "code",
   "execution_count": 3,
   "id": "41c97da3",
   "metadata": {},
   "outputs": [
    {
     "data": {
      "text/plain": [
       "array([[ 53.,  58.,  13.],\n",
       "       [115.,  72.,  45.],\n",
       "       [380., 141., 378.],\n",
       "       [328., 347., 380.],\n",
       "       [457., 280., 126.]])"
      ]
     },
     "execution_count": 3,
     "metadata": {},
     "output_type": "execute_result"
    }
   ],
   "source": [
    "generate_cost_matrix(5, 3, dominated_strategies_count=2)"
   ]
  },
  {
   "cell_type": "markdown",
   "id": "fe85d5f5",
   "metadata": {},
   "source": [
    "Видим, что метод отработал верно. Первые две строки - доминируемые стратегии."
   ]
  },
  {
   "cell_type": "markdown",
   "id": "cabcfe38",
   "metadata": {},
   "source": [
    "## Задание 2"
   ]
  },
  {
   "cell_type": "markdown",
   "id": "aa2c0b47",
   "metadata": {},
   "source": [
    "Реализовать метод СДС для произвольных платежных матриц (функция должна выводить, сколько раз у нее получилось удалить строчку доминируемой стратегии)"
   ]
  },
  {
   "cell_type": "code",
   "execution_count": 4,
   "id": "5d0aa8c2",
   "metadata": {},
   "outputs": [],
   "source": [
    "def dominated_strategies_excluding(matrix: np.ndarray) -> (int, np.ndarray):\n",
    "    deleted_rows_count = 0\n",
    "\n",
    "    while True:\n",
    "        # составляем строку из минимумов\n",
    "        min_values_by_columns = np.array([min(column) for column in matrix.T])\n",
    "        rows_to_delete = []\n",
    "\n",
    "        # проверяем, есть ли такая в матрице\n",
    "        for i in range(matrix.shape[0]):\n",
    "            all_items_matched = True\n",
    "            \n",
    "            for j in range(matrix.shape[1]):\n",
    "                if matrix[i][j] != min_values_by_columns[j]:\n",
    "                    all_items_matched = False\n",
    "                    break\n",
    "            if all_items_matched:\n",
    "                rows_to_delete.append(i)\n",
    "        \n",
    "        # Если уже все удалили\n",
    "        if len(rows_to_delete) == 0 or matrix.shape[0] == 1:\n",
    "            break\n",
    "        \n",
    "        # Удаляем строки\n",
    "        deleted_rows_count += len(rows_to_delete)\n",
    "        \n",
    "        for row_num in reversed(rows_to_delete):\n",
    "            matrix = np.delete(matrix, row_num, 0)\n",
    "\n",
    "    print(\"Работа метода завершена, удалено {0} строк\".format(deleted_rows_count))\n",
    "    return (deleted_rows_count, matrix)\n"
   ]
  },
  {
   "cell_type": "markdown",
   "id": "6d44665b",
   "metadata": {},
   "source": [
    "Проверим работу метода. Создадим матрицу с 2 доминируемыми стратегями и запустим метод с полученной матрицей"
   ]
  },
  {
   "cell_type": "code",
   "execution_count": null,
   "id": "fbebf588",
   "metadata": {},
   "outputs": [],
   "source": [
    "matrix = generate_cost_matrix(3, 4, 0, 2)\n",
    "print(\"Исходная матрица:\")\n",
    "print(matrix)\n",
    "print(\"\\n\")\n",
    "\n",
    "deleted_rows_count, matrix = dominated_strategies_excluding(matrix)\n",
    "print(\"\\n\")\n",
    "print(\"Матрица после работы метода СДС:\")\n",
    "print(matrix)"
   ]
  },
  {
   "cell_type": "markdown",
   "id": "0ebd8513",
   "metadata": {},
   "source": [
    "Видим, что метод реализован верно."
   ]
  },
  {
   "cell_type": "markdown",
   "id": "f76e9a4c",
   "metadata": {},
   "source": [
    "## Задание 3"
   ]
  },
  {
   "cell_type": "markdown",
   "id": "ccf6c320",
   "metadata": {},
   "source": [
    "Проверить правильность выполнения задания 1 путем запуска в цикле 1000 разных матриц чтобы убедиться что у вас не получилось случайно ни в одной из них лишних доминируемых/доминирующих стратегий (должно быть ровно K)"
   ]
  },
  {
   "cell_type": "markdown",
   "id": "a2486355",
   "metadata": {},
   "source": [
    "Проверять будем, запуская метод из задания 2 и сравнивая кол-во удаленных строк с кол-вом доминируемых стратегий."
   ]
  },
  {
   "cell_type": "code",
   "execution_count": null,
   "id": "502c5e6b",
   "metadata": {},
   "outputs": [],
   "source": [
    "K = 5\n",
    "rows_count = 7\n",
    "columns_count = 4\n",
    "\n",
    "for i in range(50):\n",
    "    # Создаем матрицу методом из задания 1\n",
    "    matrix = generate_cost_matrix(rows_count, columns_count, dominated_strategies_count=K)\n",
    "    \n",
    "    # Запускаем на ней метод из задания 2\n",
    "    deleted_rows_count, a = dominated_strategies_excluding(matrix)\n",
    "    \n",
    "    # Если кол-во удаленных строк не равно K, фиксируем ошибку\n",
    "    if deleted_rows_count != K:\n",
    "        print(\"Ошибка! Количесво удаленных строк методом из задания 2 не равно K\")\n",
    "        print(matrix)\n",
    "        break\n",
    "    if (i == 999):\n",
    "        print(\"Ошибок не обнаружено\")"
   ]
  }
 ],
 "metadata": {
  "kernelspec": {
   "display_name": "Python 3 (ipykernel)",
   "language": "python",
   "name": "python3"
  },
  "language_info": {
   "codemirror_mode": {
    "name": "ipython",
    "version": 3
   },
   "file_extension": ".py",
   "mimetype": "text/x-python",
   "name": "python",
   "nbconvert_exporter": "python",
   "pygments_lexer": "ipython3",
   "version": "3.7.9"
  }
 },
 "nbformat": 4,
 "nbformat_minor": 5
}
