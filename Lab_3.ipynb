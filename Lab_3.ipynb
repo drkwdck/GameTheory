{
 "cells": [
  {
   "cell_type": "markdown",
   "id": "bba3ec9f",
   "metadata": {},
   "source": [
    "Задание 3: Проверить правильность выполнения задания 1 путем запуска в цикле 1000 разных матриц чтобы убедиться что у вас не получилось случайно ни в одной из них лишних доминируемых/доминирующих стратегий (должно быть ровно K)"
   ]
  },
  {
   "cell_type": "markdown",
   "id": "51d77628",
   "metadata": {},
   "source": [
    "## Задание 1"
   ]
  },
  {
   "cell_type": "markdown",
   "id": "5aff3dbf",
   "metadata": {},
   "source": [
    "Написать функцию генерации платежной матрицы игры заданной размерности M x N. При этом добавить опциональные параметры (в Матлабе - написать несколько разных функций), позволяющих:\n",
    "* Сделать просто произвольную платежную матрицу из целых чисел M x N\n",
    "* Создать такую платежную матрицу M x N где есть ровно k<N последовательно доминирующих стратегий (т.е. если удалить доминирующую строчку, то в оставшейся матрице все равно останется доминирующая строчка)\n",
    "* Создать такую платежную матрицу M x N где есть ровно k<N последовательно доминируемых стратегий (т.е. по методу СДС должно удаляться ровно k строк)\n"
   ]
  },
  {
   "cell_type": "code",
   "execution_count": 2,
   "id": "90af785b",
   "metadata": {},
   "outputs": [],
   "source": [
    "import numpy as np\n",
    "import random\n",
    "\n",
    "random.seed(42)"
   ]
  },
  {
   "cell_type": "code",
   "execution_count": 52,
   "id": "dd1a95ce",
   "metadata": {},
   "outputs": [],
   "source": [
    "def sort_first_k_rows_items(matrix: np.ndarray, rows_sort_count: int, reverse: bool = False):\n",
    "    k = 0\n",
    "    while k < rows_sort_count and k < matrix.shape[0]:\n",
    "        # Для каждого столбца\n",
    "        for j in range(matrix.shape[1]):\n",
    "            max_by_column_row_num = k\n",
    "            previous_max = matrix[k][j]\n",
    "\n",
    "            # Находим максимум в столбце, начиная с k-ой строки\n",
    "            for i in range(k, matrix.shape[0]):\n",
    "                if reverse:\n",
    "                    if matrix[i][j] < previous_max:\n",
    "                        max_by_column_row_num = i\n",
    "                        previous_max = matrix[i][j]\n",
    "                else:\n",
    "                    if matrix[i][j] > previous_max:\n",
    "                        max_by_column_row_num = i\n",
    "                        previous_max = matrix[i][j]\n",
    "\n",
    "            # Меняем местами элемент k-ой строки и максимальный элемент в этом столбце, начиная с k-ой строки\n",
    "            matrix[max_by_column_row_num][j] = matrix[k][j]\n",
    "            matrix[k][j] = previous_max\n",
    "        k += 1\n",
    "\n",
    "def generate_cost_matrix(rows_count: int, columns_count: int, dominant_strategies_count: int = 0,\n",
    "                        dominated_strategies_count: int = 0) -> np.ndarray:\n",
    "    result_cost_matrix = np.zeros((rows_count, columns_count))\n",
    "    \n",
    "    # заполнили рандомно платежную матрицу\n",
    "    for i in range(result_cost_matrix.shape[0]):\n",
    "        for j in range(result_cost_matrix.shape[1]):\n",
    "            result_cost_matrix[i][j] = random.randint(1, 500)\n",
    "    \n",
    "    # отсортируем первые k строк так, чтобы они были доминирующими стратегиями\n",
    "    sort_first_k_rows_items(result_cost_matrix, dominant_strategies_count)\n",
    "\n",
    "    # отсортируем первые k строк так, чтобы они были доминируемыми стратегиями\n",
    "    sort_first_k_rows_items(result_cost_matrix, dominated_strategies_count, reverse = True)\n",
    "    return result_cost_matrix    "
   ]
  },
  {
   "cell_type": "markdown",
   "id": "cabcfe38",
   "metadata": {},
   "source": [
    "## Задание 2"
   ]
  },
  {
   "cell_type": "markdown",
   "id": "aa2c0b47",
   "metadata": {},
   "source": [
    "Реализовать метод СДС для произвольных платежных матриц (функция должна выводить, сколько раз у нее получилось удалить строчку доминируемой стратегии)"
   ]
  },
  {
   "cell_type": "code",
   "execution_count": null,
   "id": "5d0aa8c2",
   "metadata": {},
   "outputs": [],
   "source": []
  }
 ],
 "metadata": {
  "kernelspec": {
   "display_name": "Python 3 (ipykernel)",
   "language": "python",
   "name": "python3"
  },
  "language_info": {
   "codemirror_mode": {
    "name": "ipython",
    "version": 3
   },
   "file_extension": ".py",
   "mimetype": "text/x-python",
   "name": "python",
   "nbconvert_exporter": "python",
   "pygments_lexer": "ipython3",
   "version": "3.7.9"
  }
 },
 "nbformat": 4,
 "nbformat_minor": 5
}
